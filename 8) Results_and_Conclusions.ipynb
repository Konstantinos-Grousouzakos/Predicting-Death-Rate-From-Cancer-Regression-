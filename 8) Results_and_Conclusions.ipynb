{
 "cells": [
  {
   "cell_type": "markdown",
   "id": "145b8bd9",
   "metadata": {},
   "source": [
    "# RESULTS"
   ]
  },
  {
   "cell_type": "markdown",
   "id": "43a64e33",
   "metadata": {},
   "source": [
    "__Libraries__ "
   ]
  },
  {
   "cell_type": "code",
   "execution_count": 1,
   "id": "823c03a3",
   "metadata": {},
   "outputs": [],
   "source": [
    "import pandas as pd\n",
    "import numpy as np\n",
    "import warnings\n",
    "warnings.simplefilter(action='ignore', category=FutureWarning)\n",
    "\n",
    "pd.set_option('display.max_columns', 100)"
   ]
  },
  {
   "cell_type": "markdown",
   "id": "da85cb6c",
   "metadata": {},
   "source": [
    "__Results__"
   ]
  },
  {
   "cell_type": "code",
   "execution_count": 2,
   "id": "036e6395",
   "metadata": {},
   "outputs": [],
   "source": [
    "# Imports the Results Dataframes\n",
    "Linear_Regression_Models_Part1 =  pd.read_csv('Linear_Regression_Models_Part1_Results.csv', index_col = 'Metrics')\n",
    "Linear_Regression_Models_Part2 =  pd.read_csv('Linear_Regression_Models_Part2_Results.csv', index_col = 'Metrics')\n",
    "Linear_Regression_Models_Part3 =  pd.read_csv('Linear_Regression_Models_Part3_Results.csv', index_col = 'Metrics')\n",
    "KNN_DT = pd.read_csv('KNN_DT_Results.csv', index_col = 'Metrics')\n",
    "Ensemble_Methods_Part1 = pd.read_csv('Ensemble_Models_Part1_Results.csv', index_col = 'Metrics')\n",
    "Ensemble_Methods_Part2 = pd.read_csv('Ensemble_Models_Part2_Results.csv', index_col = 'Metrics')\n",
    "XGBoost = pd.read_csv('XGBoost_Results.csv', index_col = 'Metrics')\n",
    "CatBoost = pd.read_csv('CatBoost_Results.csv', index_col = 'Metrics')\n",
    "LightGBM = pd.read_csv('LightGBM_Results.csv', index_col = 'Metrics')\n",
    "SVR = pd.read_csv('SVR_Results.csv', index_col = 'Metrics')"
   ]
  },
  {
   "cell_type": "code",
   "execution_count": 3,
   "id": "97954031",
   "metadata": {},
   "outputs": [
    {
     "data": {
      "text/html": [
       "<div>\n",
       "<style scoped>\n",
       "    .dataframe tbody tr th:only-of-type {\n",
       "        vertical-align: middle;\n",
       "    }\n",
       "\n",
       "    .dataframe tbody tr th {\n",
       "        vertical-align: top;\n",
       "    }\n",
       "\n",
       "    .dataframe thead th {\n",
       "        text-align: right;\n",
       "    }\n",
       "</style>\n",
       "<table border=\"1\" class=\"dataframe\">\n",
       "  <thead>\n",
       "    <tr style=\"text-align: right;\">\n",
       "      <th>Metrics</th>\n",
       "      <th>R^2</th>\n",
       "      <th>Training_MSE</th>\n",
       "      <th>Training_MSE (KFold)</th>\n",
       "      <th>Test_MSE</th>\n",
       "    </tr>\n",
       "  </thead>\n",
       "  <tbody>\n",
       "    <tr>\n",
       "      <th>PCR</th>\n",
       "      <td>0.483</td>\n",
       "      <td>373.72</td>\n",
       "      <td>385.9</td>\n",
       "      <td>515.84</td>\n",
       "    </tr>\n",
       "    <tr>\n",
       "      <th>PCR (2nd Degree)</th>\n",
       "      <td>0.497</td>\n",
       "      <td>363.41</td>\n",
       "      <td>396.3</td>\n",
       "      <td>473.87</td>\n",
       "    </tr>\n",
       "    <tr>\n",
       "      <th>Forward Selection</th>\n",
       "      <td>0.500</td>\n",
       "      <td>361.30</td>\n",
       "      <td>371.9</td>\n",
       "      <td>323.14</td>\n",
       "    </tr>\n",
       "    <tr>\n",
       "      <th>Backwards Elimination</th>\n",
       "      <td>0.507</td>\n",
       "      <td>356.00</td>\n",
       "      <td>366.5</td>\n",
       "      <td>311.26</td>\n",
       "    </tr>\n",
       "    <tr>\n",
       "      <th>Stepwise Selection</th>\n",
       "      <td>0.499</td>\n",
       "      <td>361.87</td>\n",
       "      <td>371.2</td>\n",
       "      <td>327.94</td>\n",
       "    </tr>\n",
       "    <tr>\n",
       "      <th>Ridge Regression</th>\n",
       "      <td>0.512</td>\n",
       "      <td>352.83</td>\n",
       "      <td>369.6</td>\n",
       "      <td>314.35</td>\n",
       "    </tr>\n",
       "    <tr>\n",
       "      <th>Lasso Regression</th>\n",
       "      <td>0.512</td>\n",
       "      <td>352.89</td>\n",
       "      <td>369.7</td>\n",
       "      <td>314.25</td>\n",
       "    </tr>\n",
       "    <tr>\n",
       "      <th>KNN</th>\n",
       "      <td>0.540</td>\n",
       "      <td>332.15</td>\n",
       "      <td>405.1</td>\n",
       "      <td>339.92</td>\n",
       "    </tr>\n",
       "    <tr>\n",
       "      <th>Decision Tree</th>\n",
       "      <td>0.331</td>\n",
       "      <td>483.48</td>\n",
       "      <td>524.4</td>\n",
       "      <td>445.63</td>\n",
       "    </tr>\n",
       "    <tr>\n",
       "      <th>Bagging</th>\n",
       "      <td>0.710</td>\n",
       "      <td>209.44</td>\n",
       "      <td>410.7</td>\n",
       "      <td>341.32</td>\n",
       "    </tr>\n",
       "    <tr>\n",
       "      <th>Random Forest</th>\n",
       "      <td>0.400</td>\n",
       "      <td>433.72</td>\n",
       "      <td>456.7</td>\n",
       "      <td>375.03</td>\n",
       "    </tr>\n",
       "    <tr>\n",
       "      <th>AdaBoost</th>\n",
       "      <td>1.000</td>\n",
       "      <td>0.10</td>\n",
       "      <td>363.1</td>\n",
       "      <td>295.11</td>\n",
       "    </tr>\n",
       "    <tr>\n",
       "      <th>Gradient Boosting</th>\n",
       "      <td>0.196</td>\n",
       "      <td>580.95</td>\n",
       "      <td>635.7</td>\n",
       "      <td>534.67</td>\n",
       "    </tr>\n",
       "    <tr>\n",
       "      <th>XGBoost</th>\n",
       "      <td>0.886</td>\n",
       "      <td>82.18</td>\n",
       "      <td>319.1</td>\n",
       "      <td>253.82</td>\n",
       "    </tr>\n",
       "    <tr>\n",
       "      <th>CatBoost</th>\n",
       "      <td>0.685</td>\n",
       "      <td>228.04</td>\n",
       "      <td>336.0</td>\n",
       "      <td>280.97</td>\n",
       "    </tr>\n",
       "    <tr>\n",
       "      <th>LightGBM</th>\n",
       "      <td>0.839</td>\n",
       "      <td>116.43</td>\n",
       "      <td>275.2</td>\n",
       "      <td>200.46</td>\n",
       "    </tr>\n",
       "    <tr>\n",
       "      <th>SVR</th>\n",
       "      <td>0.505</td>\n",
       "      <td>357.68</td>\n",
       "      <td>367.7</td>\n",
       "      <td>309.22</td>\n",
       "    </tr>\n",
       "  </tbody>\n",
       "</table>\n",
       "</div>"
      ],
      "text/plain": [
       "Metrics                  R^2  Training_MSE  Training_MSE (KFold)  Test_MSE\n",
       "PCR                    0.483        373.72                 385.9    515.84\n",
       "PCR (2nd Degree)       0.497        363.41                 396.3    473.87\n",
       "Forward Selection      0.500        361.30                 371.9    323.14\n",
       "Backwards Elimination  0.507        356.00                 366.5    311.26\n",
       "Stepwise Selection     0.499        361.87                 371.2    327.94\n",
       "Ridge Regression       0.512        352.83                 369.6    314.35\n",
       "Lasso Regression       0.512        352.89                 369.7    314.25\n",
       "KNN                    0.540        332.15                 405.1    339.92\n",
       "Decision Tree          0.331        483.48                 524.4    445.63\n",
       "Bagging                0.710        209.44                 410.7    341.32\n",
       "Random Forest          0.400        433.72                 456.7    375.03\n",
       "AdaBoost               1.000          0.10                 363.1    295.11\n",
       "Gradient Boosting      0.196        580.95                 635.7    534.67\n",
       "XGBoost                0.886         82.18                 319.1    253.82\n",
       "CatBoost               0.685        228.04                 336.0    280.97\n",
       "LightGBM               0.839        116.43                 275.2    200.46\n",
       "SVR                    0.505        357.68                 367.7    309.22"
      ]
     },
     "execution_count": 3,
     "metadata": {},
     "output_type": "execute_result"
    }
   ],
   "source": [
    "# Concatenating\n",
    "Results = pd.concat([Linear_Regression_Models_Part1, Linear_Regression_Models_Part2, Linear_Regression_Models_Part3, \n",
    "                     KNN_DT, \n",
    "                     Ensemble_Methods_Part1,Ensemble_Methods_Part2, \n",
    "                     XGBoost, CatBoost, LightGBM, \n",
    "                     SVR ], axis = 1 )\n",
    "\n",
    "Results = Results.transpose()\n",
    "Results.fillna('-------', inplace = True)\n",
    "Results"
   ]
  },
  {
   "cell_type": "code",
   "execution_count": 4,
   "id": "038a3f32",
   "metadata": {},
   "outputs": [],
   "source": [
    "# Function the displays the top max or min values of a column, along their indices\n",
    "\n",
    "def display_top_models(dataframe, column_name, n=5, mode='max'):\n",
    "    # Retrieve the specified column from the DataFrame\n",
    "    column = dataframe[column_name]\n",
    "    \n",
    "    # Sort the column based on mode (min or max) and retrieve the top n indices\n",
    "    if mode == 'min':\n",
    "        top_indices_values = column.nsmallest(n)\n",
    "        top_indices = top_indices_values.index\n",
    "        print(\"Min {} values':\".format(n, column_name))\n",
    "    elif mode == 'max':\n",
    "        top_indices_values = column.nlargest(n)\n",
    "        top_indices = top_indices_values.index\n",
    "        print(\"Max {} values :\".format(n, column_name))\n",
    "    else:\n",
    "        print(\"Invalid mode. Please choose 'min' or 'max'.\")\n",
    "        return\n",
    "    \n",
    "    # Create a DataFrame to store the top indices and their corresponding values\n",
    "    top_indices_df = pd.DataFrame({column_name: top_indices_values, 'Value': dataframe.loc[top_indices, column_name]})\n",
    "    top_indices_df.drop(columns = ['Value'], inplace = True)\n",
    "    \n",
    "    return top_indices_df"
   ]
  },
  {
   "cell_type": "markdown",
   "id": "cb124389",
   "metadata": {},
   "source": [
    "__Inspecting R^2__"
   ]
  },
  {
   "cell_type": "code",
   "execution_count": 5,
   "id": "02d0959d",
   "metadata": {},
   "outputs": [
    {
     "name": "stdout",
     "output_type": "stream",
     "text": [
      "Max 5 values :\n"
     ]
    },
    {
     "data": {
      "text/html": [
       "<div>\n",
       "<style scoped>\n",
       "    .dataframe tbody tr th:only-of-type {\n",
       "        vertical-align: middle;\n",
       "    }\n",
       "\n",
       "    .dataframe tbody tr th {\n",
       "        vertical-align: top;\n",
       "    }\n",
       "\n",
       "    .dataframe thead th {\n",
       "        text-align: right;\n",
       "    }\n",
       "</style>\n",
       "<table border=\"1\" class=\"dataframe\">\n",
       "  <thead>\n",
       "    <tr style=\"text-align: right;\">\n",
       "      <th></th>\n",
       "      <th>R^2</th>\n",
       "    </tr>\n",
       "  </thead>\n",
       "  <tbody>\n",
       "    <tr>\n",
       "      <th>AdaBoost</th>\n",
       "      <td>1.000</td>\n",
       "    </tr>\n",
       "    <tr>\n",
       "      <th>XGBoost</th>\n",
       "      <td>0.886</td>\n",
       "    </tr>\n",
       "    <tr>\n",
       "      <th>LightGBM</th>\n",
       "      <td>0.839</td>\n",
       "    </tr>\n",
       "    <tr>\n",
       "      <th>Bagging</th>\n",
       "      <td>0.710</td>\n",
       "    </tr>\n",
       "    <tr>\n",
       "      <th>CatBoost</th>\n",
       "      <td>0.685</td>\n",
       "    </tr>\n",
       "  </tbody>\n",
       "</table>\n",
       "</div>"
      ],
      "text/plain": [
       "            R^2\n",
       "AdaBoost  1.000\n",
       "XGBoost   0.886\n",
       "LightGBM  0.839\n",
       "Bagging   0.710\n",
       "CatBoost  0.685"
      ]
     },
     "execution_count": 5,
     "metadata": {},
     "output_type": "execute_result"
    }
   ],
   "source": [
    "display_top_models(Results, 'R^2')"
   ]
  },
  {
   "cell_type": "code",
   "execution_count": 6,
   "id": "e5e1ff27",
   "metadata": {},
   "outputs": [
    {
     "name": "stdout",
     "output_type": "stream",
     "text": [
      "Min 5 values':\n"
     ]
    },
    {
     "data": {
      "text/html": [
       "<div>\n",
       "<style scoped>\n",
       "    .dataframe tbody tr th:only-of-type {\n",
       "        vertical-align: middle;\n",
       "    }\n",
       "\n",
       "    .dataframe tbody tr th {\n",
       "        vertical-align: top;\n",
       "    }\n",
       "\n",
       "    .dataframe thead th {\n",
       "        text-align: right;\n",
       "    }\n",
       "</style>\n",
       "<table border=\"1\" class=\"dataframe\">\n",
       "  <thead>\n",
       "    <tr style=\"text-align: right;\">\n",
       "      <th></th>\n",
       "      <th>R^2</th>\n",
       "    </tr>\n",
       "  </thead>\n",
       "  <tbody>\n",
       "    <tr>\n",
       "      <th>Gradient Boosting</th>\n",
       "      <td>0.196</td>\n",
       "    </tr>\n",
       "    <tr>\n",
       "      <th>Decision Tree</th>\n",
       "      <td>0.331</td>\n",
       "    </tr>\n",
       "    <tr>\n",
       "      <th>Random Forest</th>\n",
       "      <td>0.400</td>\n",
       "    </tr>\n",
       "    <tr>\n",
       "      <th>PCR</th>\n",
       "      <td>0.483</td>\n",
       "    </tr>\n",
       "    <tr>\n",
       "      <th>PCR (2nd Degree)</th>\n",
       "      <td>0.497</td>\n",
       "    </tr>\n",
       "  </tbody>\n",
       "</table>\n",
       "</div>"
      ],
      "text/plain": [
       "                     R^2\n",
       "Gradient Boosting  0.196\n",
       "Decision Tree      0.331\n",
       "Random Forest      0.400\n",
       "PCR                0.483\n",
       "PCR (2nd Degree)   0.497"
      ]
     },
     "execution_count": 6,
     "metadata": {},
     "output_type": "execute_result"
    }
   ],
   "source": [
    "display_top_models(Results, 'R^2', mode = 'min')"
   ]
  },
  {
   "cell_type": "markdown",
   "id": "00079eff",
   "metadata": {},
   "source": [
    "__Inspecting Training_MSE__"
   ]
  },
  {
   "cell_type": "code",
   "execution_count": 7,
   "id": "155c5a1c",
   "metadata": {},
   "outputs": [
    {
     "name": "stdout",
     "output_type": "stream",
     "text": [
      "Min 5 values':\n"
     ]
    },
    {
     "data": {
      "text/html": [
       "<div>\n",
       "<style scoped>\n",
       "    .dataframe tbody tr th:only-of-type {\n",
       "        vertical-align: middle;\n",
       "    }\n",
       "\n",
       "    .dataframe tbody tr th {\n",
       "        vertical-align: top;\n",
       "    }\n",
       "\n",
       "    .dataframe thead th {\n",
       "        text-align: right;\n",
       "    }\n",
       "</style>\n",
       "<table border=\"1\" class=\"dataframe\">\n",
       "  <thead>\n",
       "    <tr style=\"text-align: right;\">\n",
       "      <th></th>\n",
       "      <th>Training_MSE</th>\n",
       "    </tr>\n",
       "  </thead>\n",
       "  <tbody>\n",
       "    <tr>\n",
       "      <th>AdaBoost</th>\n",
       "      <td>0.10</td>\n",
       "    </tr>\n",
       "    <tr>\n",
       "      <th>XGBoost</th>\n",
       "      <td>82.18</td>\n",
       "    </tr>\n",
       "    <tr>\n",
       "      <th>LightGBM</th>\n",
       "      <td>116.43</td>\n",
       "    </tr>\n",
       "    <tr>\n",
       "      <th>Bagging</th>\n",
       "      <td>209.44</td>\n",
       "    </tr>\n",
       "    <tr>\n",
       "      <th>CatBoost</th>\n",
       "      <td>228.04</td>\n",
       "    </tr>\n",
       "  </tbody>\n",
       "</table>\n",
       "</div>"
      ],
      "text/plain": [
       "          Training_MSE\n",
       "AdaBoost          0.10\n",
       "XGBoost          82.18\n",
       "LightGBM        116.43\n",
       "Bagging         209.44\n",
       "CatBoost        228.04"
      ]
     },
     "execution_count": 7,
     "metadata": {},
     "output_type": "execute_result"
    }
   ],
   "source": [
    "display_top_models(Results, 'Training_MSE', mode = 'min')"
   ]
  },
  {
   "cell_type": "code",
   "execution_count": 8,
   "id": "80b67cd7",
   "metadata": {},
   "outputs": [
    {
     "name": "stdout",
     "output_type": "stream",
     "text": [
      "Max 5 values :\n"
     ]
    },
    {
     "data": {
      "text/html": [
       "<div>\n",
       "<style scoped>\n",
       "    .dataframe tbody tr th:only-of-type {\n",
       "        vertical-align: middle;\n",
       "    }\n",
       "\n",
       "    .dataframe tbody tr th {\n",
       "        vertical-align: top;\n",
       "    }\n",
       "\n",
       "    .dataframe thead th {\n",
       "        text-align: right;\n",
       "    }\n",
       "</style>\n",
       "<table border=\"1\" class=\"dataframe\">\n",
       "  <thead>\n",
       "    <tr style=\"text-align: right;\">\n",
       "      <th></th>\n",
       "      <th>Training_MSE</th>\n",
       "    </tr>\n",
       "  </thead>\n",
       "  <tbody>\n",
       "    <tr>\n",
       "      <th>Gradient Boosting</th>\n",
       "      <td>580.95</td>\n",
       "    </tr>\n",
       "    <tr>\n",
       "      <th>Decision Tree</th>\n",
       "      <td>483.48</td>\n",
       "    </tr>\n",
       "    <tr>\n",
       "      <th>Random Forest</th>\n",
       "      <td>433.72</td>\n",
       "    </tr>\n",
       "    <tr>\n",
       "      <th>PCR</th>\n",
       "      <td>373.72</td>\n",
       "    </tr>\n",
       "    <tr>\n",
       "      <th>PCR (2nd Degree)</th>\n",
       "      <td>363.41</td>\n",
       "    </tr>\n",
       "  </tbody>\n",
       "</table>\n",
       "</div>"
      ],
      "text/plain": [
       "                   Training_MSE\n",
       "Gradient Boosting        580.95\n",
       "Decision Tree            483.48\n",
       "Random Forest            433.72\n",
       "PCR                      373.72\n",
       "PCR (2nd Degree)         363.41"
      ]
     },
     "execution_count": 8,
     "metadata": {},
     "output_type": "execute_result"
    }
   ],
   "source": [
    "display_top_models(Results, 'Training_MSE')"
   ]
  },
  {
   "cell_type": "markdown",
   "id": "0e763ba0",
   "metadata": {},
   "source": [
    "__Inspecting  Training_MSE (KFold)__"
   ]
  },
  {
   "cell_type": "code",
   "execution_count": 9,
   "id": "ed6dced3",
   "metadata": {},
   "outputs": [
    {
     "name": "stdout",
     "output_type": "stream",
     "text": [
      "Min 5 values':\n"
     ]
    },
    {
     "data": {
      "text/html": [
       "<div>\n",
       "<style scoped>\n",
       "    .dataframe tbody tr th:only-of-type {\n",
       "        vertical-align: middle;\n",
       "    }\n",
       "\n",
       "    .dataframe tbody tr th {\n",
       "        vertical-align: top;\n",
       "    }\n",
       "\n",
       "    .dataframe thead th {\n",
       "        text-align: right;\n",
       "    }\n",
       "</style>\n",
       "<table border=\"1\" class=\"dataframe\">\n",
       "  <thead>\n",
       "    <tr style=\"text-align: right;\">\n",
       "      <th></th>\n",
       "      <th>Training_MSE (KFold)</th>\n",
       "    </tr>\n",
       "  </thead>\n",
       "  <tbody>\n",
       "    <tr>\n",
       "      <th>LightGBM</th>\n",
       "      <td>275.2</td>\n",
       "    </tr>\n",
       "    <tr>\n",
       "      <th>XGBoost</th>\n",
       "      <td>319.1</td>\n",
       "    </tr>\n",
       "    <tr>\n",
       "      <th>CatBoost</th>\n",
       "      <td>336.0</td>\n",
       "    </tr>\n",
       "    <tr>\n",
       "      <th>AdaBoost</th>\n",
       "      <td>363.1</td>\n",
       "    </tr>\n",
       "    <tr>\n",
       "      <th>Backwards Elimination</th>\n",
       "      <td>366.5</td>\n",
       "    </tr>\n",
       "  </tbody>\n",
       "</table>\n",
       "</div>"
      ],
      "text/plain": [
       "                       Training_MSE (KFold)\n",
       "LightGBM                              275.2\n",
       "XGBoost                               319.1\n",
       "CatBoost                              336.0\n",
       "AdaBoost                              363.1\n",
       "Backwards Elimination                 366.5"
      ]
     },
     "execution_count": 9,
     "metadata": {},
     "output_type": "execute_result"
    }
   ],
   "source": [
    "display_top_models(Results, 'Training_MSE (KFold)', mode = 'min')"
   ]
  },
  {
   "cell_type": "code",
   "execution_count": 10,
   "id": "8c2687f1",
   "metadata": {},
   "outputs": [
    {
     "name": "stdout",
     "output_type": "stream",
     "text": [
      "Max 5 values :\n"
     ]
    },
    {
     "data": {
      "text/html": [
       "<div>\n",
       "<style scoped>\n",
       "    .dataframe tbody tr th:only-of-type {\n",
       "        vertical-align: middle;\n",
       "    }\n",
       "\n",
       "    .dataframe tbody tr th {\n",
       "        vertical-align: top;\n",
       "    }\n",
       "\n",
       "    .dataframe thead th {\n",
       "        text-align: right;\n",
       "    }\n",
       "</style>\n",
       "<table border=\"1\" class=\"dataframe\">\n",
       "  <thead>\n",
       "    <tr style=\"text-align: right;\">\n",
       "      <th></th>\n",
       "      <th>Training_MSE (KFold)</th>\n",
       "    </tr>\n",
       "  </thead>\n",
       "  <tbody>\n",
       "    <tr>\n",
       "      <th>Gradient Boosting</th>\n",
       "      <td>635.7</td>\n",
       "    </tr>\n",
       "    <tr>\n",
       "      <th>Decision Tree</th>\n",
       "      <td>524.4</td>\n",
       "    </tr>\n",
       "    <tr>\n",
       "      <th>Random Forest</th>\n",
       "      <td>456.7</td>\n",
       "    </tr>\n",
       "    <tr>\n",
       "      <th>Bagging</th>\n",
       "      <td>410.7</td>\n",
       "    </tr>\n",
       "    <tr>\n",
       "      <th>KNN</th>\n",
       "      <td>405.1</td>\n",
       "    </tr>\n",
       "  </tbody>\n",
       "</table>\n",
       "</div>"
      ],
      "text/plain": [
       "                   Training_MSE (KFold)\n",
       "Gradient Boosting                 635.7\n",
       "Decision Tree                     524.4\n",
       "Random Forest                     456.7\n",
       "Bagging                           410.7\n",
       "KNN                               405.1"
      ]
     },
     "execution_count": 10,
     "metadata": {},
     "output_type": "execute_result"
    }
   ],
   "source": [
    "display_top_models(Results, 'Training_MSE (KFold)')"
   ]
  },
  {
   "cell_type": "markdown",
   "id": "314ef35f",
   "metadata": {},
   "source": [
    "__Inspecting  Test_MSE__"
   ]
  },
  {
   "cell_type": "code",
   "execution_count": 11,
   "id": "51fd50a8",
   "metadata": {},
   "outputs": [
    {
     "name": "stdout",
     "output_type": "stream",
     "text": [
      "Min 5 values':\n"
     ]
    },
    {
     "data": {
      "text/html": [
       "<div>\n",
       "<style scoped>\n",
       "    .dataframe tbody tr th:only-of-type {\n",
       "        vertical-align: middle;\n",
       "    }\n",
       "\n",
       "    .dataframe tbody tr th {\n",
       "        vertical-align: top;\n",
       "    }\n",
       "\n",
       "    .dataframe thead th {\n",
       "        text-align: right;\n",
       "    }\n",
       "</style>\n",
       "<table border=\"1\" class=\"dataframe\">\n",
       "  <thead>\n",
       "    <tr style=\"text-align: right;\">\n",
       "      <th></th>\n",
       "      <th>Test_MSE</th>\n",
       "    </tr>\n",
       "  </thead>\n",
       "  <tbody>\n",
       "    <tr>\n",
       "      <th>LightGBM</th>\n",
       "      <td>200.46</td>\n",
       "    </tr>\n",
       "    <tr>\n",
       "      <th>XGBoost</th>\n",
       "      <td>253.82</td>\n",
       "    </tr>\n",
       "    <tr>\n",
       "      <th>CatBoost</th>\n",
       "      <td>280.97</td>\n",
       "    </tr>\n",
       "    <tr>\n",
       "      <th>AdaBoost</th>\n",
       "      <td>295.11</td>\n",
       "    </tr>\n",
       "    <tr>\n",
       "      <th>SVR</th>\n",
       "      <td>309.22</td>\n",
       "    </tr>\n",
       "  </tbody>\n",
       "</table>\n",
       "</div>"
      ],
      "text/plain": [
       "          Test_MSE\n",
       "LightGBM    200.46\n",
       "XGBoost     253.82\n",
       "CatBoost    280.97\n",
       "AdaBoost    295.11\n",
       "SVR         309.22"
      ]
     },
     "execution_count": 11,
     "metadata": {},
     "output_type": "execute_result"
    }
   ],
   "source": [
    "display_top_models(Results, 'Test_MSE', mode = 'min')"
   ]
  },
  {
   "cell_type": "code",
   "execution_count": 12,
   "id": "1fe7348f",
   "metadata": {
    "scrolled": true
   },
   "outputs": [
    {
     "name": "stdout",
     "output_type": "stream",
     "text": [
      "Max 5 values :\n"
     ]
    },
    {
     "data": {
      "text/html": [
       "<div>\n",
       "<style scoped>\n",
       "    .dataframe tbody tr th:only-of-type {\n",
       "        vertical-align: middle;\n",
       "    }\n",
       "\n",
       "    .dataframe tbody tr th {\n",
       "        vertical-align: top;\n",
       "    }\n",
       "\n",
       "    .dataframe thead th {\n",
       "        text-align: right;\n",
       "    }\n",
       "</style>\n",
       "<table border=\"1\" class=\"dataframe\">\n",
       "  <thead>\n",
       "    <tr style=\"text-align: right;\">\n",
       "      <th></th>\n",
       "      <th>Test_MSE</th>\n",
       "    </tr>\n",
       "  </thead>\n",
       "  <tbody>\n",
       "    <tr>\n",
       "      <th>Gradient Boosting</th>\n",
       "      <td>534.67</td>\n",
       "    </tr>\n",
       "    <tr>\n",
       "      <th>PCR</th>\n",
       "      <td>515.84</td>\n",
       "    </tr>\n",
       "    <tr>\n",
       "      <th>PCR (2nd Degree)</th>\n",
       "      <td>473.87</td>\n",
       "    </tr>\n",
       "    <tr>\n",
       "      <th>Decision Tree</th>\n",
       "      <td>445.63</td>\n",
       "    </tr>\n",
       "    <tr>\n",
       "      <th>Random Forest</th>\n",
       "      <td>375.03</td>\n",
       "    </tr>\n",
       "  </tbody>\n",
       "</table>\n",
       "</div>"
      ],
      "text/plain": [
       "                   Test_MSE\n",
       "Gradient Boosting    534.67\n",
       "PCR                  515.84\n",
       "PCR (2nd Degree)     473.87\n",
       "Decision Tree        445.63\n",
       "Random Forest        375.03"
      ]
     },
     "execution_count": 12,
     "metadata": {},
     "output_type": "execute_result"
    }
   ],
   "source": [
    "display_top_models(Results, 'Test_MSE')"
   ]
  },
  {
   "cell_type": "markdown",
   "id": "2e2cc308",
   "metadata": {},
   "source": [
    "__CONCLUSIONS__"
   ]
  },
  {
   "cell_type": "markdown",
   "id": "53011da1",
   "metadata": {},
   "source": [
    "The optimized boosting algorithms, namely XGBoost, LightGBM, and CatBoost, stand out as superior performers among the models evaluated. These algorithms demonstrate remarkable consistency in avoiding overfitting or underfitting, delivering high levels of prediction accuracy as evidenced by their cross-validated and test error metrics.\n",
    "\n",
    "Among these, LightGBM emerges as particularly promising, as it achieves the smallest prediction error among the evaluated models. This underscores its potential as a robust and effective algorithm for the given task."
   ]
  }
 ],
 "metadata": {
  "kernelspec": {
   "display_name": "Python 3 (ipykernel)",
   "language": "python",
   "name": "python3"
  },
  "language_info": {
   "codemirror_mode": {
    "name": "ipython",
    "version": 3
   },
   "file_extension": ".py",
   "mimetype": "text/x-python",
   "name": "python",
   "nbconvert_exporter": "python",
   "pygments_lexer": "ipython3",
   "version": "3.11.5"
  }
 },
 "nbformat": 4,
 "nbformat_minor": 5
}
