{
 "cells": [
  {
   "cell_type": "markdown",
   "id": "2ceec0b1",
   "metadata": {},
   "source": [
    "# ENSEMBLE METHODS PART 2"
   ]
  },
  {
   "cell_type": "markdown",
   "id": "90ad0d06",
   "metadata": {},
   "source": [
    "## CONTENTS\n",
    "\n",
    "__1.INTRODUCTION__\n",
    "\n",
    "__2.LIBRARIES AND DATA__\n",
    "       \n",
    "__3.PREPROCESSING__\n",
    "\n",
    "__4.ADABOOST__\n",
    "             \n",
    "__5.GRADIENT BOOSTING__\n",
    "\n",
    "__6.RESULTS__\n"
   ]
  },
  {
   "cell_type": "markdown",
   "id": "0527dd55",
   "metadata": {},
   "source": [
    "## 1. INTRODUCTION"
   ]
  },
  {
   "cell_type": "markdown",
   "id": "af0cae0f",
   "metadata": {},
   "source": [
    "In this Jupyter Notebook, we'll make use of the ensemble methods AdaBoost and Gradient Boosting."
   ]
  },
  {
   "cell_type": "markdown",
   "id": "ea438786",
   "metadata": {},
   "source": [
    "## 2. LIBRARIES AND DATA"
   ]
  },
  {
   "cell_type": "markdown",
   "id": "3baf0fe9",
   "metadata": {},
   "source": [
    "__Libraries__"
   ]
  },
  {
   "cell_type": "code",
   "execution_count": 1,
   "id": "c7493101",
   "metadata": {},
   "outputs": [],
   "source": [
    "import pandas as pd\n",
    "import numpy as np\n",
    "from numpy import arange\n",
    "import seaborn as sns\n",
    "import matplotlib.pyplot as plt\n",
    "\n",
    "from sklearn.ensemble import AdaBoostRegressor\n",
    "from sklearn.linear_model import LinearRegression\n",
    "from sklearn.model_selection import KFold, cross_val_score\n",
    "from sklearn.model_selection import GridSearchCV\n",
    "from sklearn.metrics import mean_squared_error, mean_absolute_error\n",
    "from sklearn.preprocessing import StandardScaler\n",
    "from sklearn.tree import DecisionTreeRegressor\n",
    "from sklearn.neighbors import KNeighborsRegressor\n",
    "from sklearn.ensemble import GradientBoostingRegressor\n",
    "import warnings\n",
    "warnings.simplefilter(action='ignore', category=FutureWarning)\n",
    "\n",
    "pd.set_option('display.max_columns', 100)"
   ]
  },
  {
   "cell_type": "markdown",
   "id": "3d7bce52",
   "metadata": {},
   "source": [
    "__Importing data__"
   ]
  },
  {
   "cell_type": "code",
   "execution_count": 2,
   "id": "eb181ef1",
   "metadata": {},
   "outputs": [],
   "source": [
    "data1 = pd.read_csv(\"train_dataset.csv\") \n",
    "data2 = pd.read_csv(\"test_dataset.csv\") \n",
    "\n",
    "# Train and test Dataset\n",
    "train_df = data1.copy()\n",
    "test_df = data2.copy()"
   ]
  },
  {
   "cell_type": "code",
   "execution_count": 3,
   "id": "f2bdae70",
   "metadata": {},
   "outputs": [
    {
     "data": {
      "text/html": [
       "<div>\n",
       "<style scoped>\n",
       "    .dataframe tbody tr th:only-of-type {\n",
       "        vertical-align: middle;\n",
       "    }\n",
       "\n",
       "    .dataframe tbody tr th {\n",
       "        vertical-align: top;\n",
       "    }\n",
       "\n",
       "    .dataframe thead th {\n",
       "        text-align: right;\n",
       "    }\n",
       "</style>\n",
       "<table border=\"1\" class=\"dataframe\">\n",
       "  <thead>\n",
       "    <tr style=\"text-align: right;\">\n",
       "      <th></th>\n",
       "      <th>avgAnnCount</th>\n",
       "      <th>avgDeathsPerYear</th>\n",
       "      <th>TARGET_deathRate</th>\n",
       "      <th>incidenceRate</th>\n",
       "      <th>medIncome</th>\n",
       "      <th>popEst2015</th>\n",
       "      <th>povertyPercent</th>\n",
       "      <th>studyPerCap</th>\n",
       "      <th>binnedInc</th>\n",
       "      <th>MedianAge</th>\n",
       "      <th>MedianAgeMale</th>\n",
       "      <th>MedianAgeFemale</th>\n",
       "      <th>AvgHouseholdSize</th>\n",
       "      <th>PercentMarried</th>\n",
       "      <th>PctNoHS18_24</th>\n",
       "      <th>PctHS18_24</th>\n",
       "      <th>PctBachDeg18_24</th>\n",
       "      <th>PctHS25_Over</th>\n",
       "      <th>PctBachDeg25_Over</th>\n",
       "      <th>PctEmployed16_Over</th>\n",
       "      <th>PctUnemployed16_Over</th>\n",
       "      <th>PctPrivateCoverage</th>\n",
       "      <th>PctEmpPrivCoverage</th>\n",
       "      <th>PctPublicCoverage</th>\n",
       "      <th>PctPublicCoverageAlone</th>\n",
       "      <th>PctWhite</th>\n",
       "      <th>PctBlack</th>\n",
       "      <th>PctAsian</th>\n",
       "      <th>PctOtherRace</th>\n",
       "      <th>PctMarriedHouseholds</th>\n",
       "      <th>BirthRate</th>\n",
       "      <th>Geography_EAST</th>\n",
       "      <th>Geography_WEST</th>\n",
       "    </tr>\n",
       "  </thead>\n",
       "  <tbody>\n",
       "    <tr>\n",
       "      <th>0</th>\n",
       "      <td>245.0</td>\n",
       "      <td>95</td>\n",
       "      <td>196.0</td>\n",
       "      <td>535.2</td>\n",
       "      <td>46870</td>\n",
       "      <td>33642</td>\n",
       "      <td>14.4</td>\n",
       "      <td>0.0</td>\n",
       "      <td>46611.30</td>\n",
       "      <td>42.0</td>\n",
       "      <td>40.4</td>\n",
       "      <td>44.3</td>\n",
       "      <td>2.31</td>\n",
       "      <td>51.1</td>\n",
       "      <td>17.2</td>\n",
       "      <td>43.0</td>\n",
       "      <td>4.7</td>\n",
       "      <td>44.1</td>\n",
       "      <td>9.6</td>\n",
       "      <td>54.6</td>\n",
       "      <td>5.4</td>\n",
       "      <td>70.2</td>\n",
       "      <td>46.0</td>\n",
       "      <td>38.5</td>\n",
       "      <td>19.5</td>\n",
       "      <td>96.374269</td>\n",
       "      <td>1.684211</td>\n",
       "      <td>0.526316</td>\n",
       "      <td>0.181287</td>\n",
       "      <td>47.898380</td>\n",
       "      <td>4.048468</td>\n",
       "      <td>0</td>\n",
       "      <td>0</td>\n",
       "    </tr>\n",
       "    <tr>\n",
       "      <th>1</th>\n",
       "      <td>241.0</td>\n",
       "      <td>112</td>\n",
       "      <td>182.4</td>\n",
       "      <td>408.4</td>\n",
       "      <td>36424</td>\n",
       "      <td>41459</td>\n",
       "      <td>18.8</td>\n",
       "      <td>0.0</td>\n",
       "      <td>35815.95</td>\n",
       "      <td>45.8</td>\n",
       "      <td>44.9</td>\n",
       "      <td>46.7</td>\n",
       "      <td>2.47</td>\n",
       "      <td>55.0</td>\n",
       "      <td>22.0</td>\n",
       "      <td>43.5</td>\n",
       "      <td>3.2</td>\n",
       "      <td>37.2</td>\n",
       "      <td>11.6</td>\n",
       "      <td>47.7</td>\n",
       "      <td>9.2</td>\n",
       "      <td>52.4</td>\n",
       "      <td>28.7</td>\n",
       "      <td>44.9</td>\n",
       "      <td>23.5</td>\n",
       "      <td>66.207829</td>\n",
       "      <td>0.304282</td>\n",
       "      <td>1.144679</td>\n",
       "      <td>1.113285</td>\n",
       "      <td>52.937625</td>\n",
       "      <td>4.550419</td>\n",
       "      <td>0</td>\n",
       "      <td>0</td>\n",
       "    </tr>\n",
       "  </tbody>\n",
       "</table>\n",
       "</div>"
      ],
      "text/plain": [
       "   avgAnnCount  avgDeathsPerYear  TARGET_deathRate  incidenceRate  medIncome  \\\n",
       "0        245.0                95             196.0          535.2      46870   \n",
       "1        241.0               112             182.4          408.4      36424   \n",
       "\n",
       "   popEst2015  povertyPercent  studyPerCap  binnedInc  MedianAge  \\\n",
       "0       33642            14.4          0.0   46611.30       42.0   \n",
       "1       41459            18.8          0.0   35815.95       45.8   \n",
       "\n",
       "   MedianAgeMale  MedianAgeFemale  AvgHouseholdSize  PercentMarried  \\\n",
       "0           40.4             44.3              2.31            51.1   \n",
       "1           44.9             46.7              2.47            55.0   \n",
       "\n",
       "   PctNoHS18_24  PctHS18_24  PctBachDeg18_24  PctHS25_Over  PctBachDeg25_Over  \\\n",
       "0          17.2        43.0              4.7          44.1                9.6   \n",
       "1          22.0        43.5              3.2          37.2               11.6   \n",
       "\n",
       "   PctEmployed16_Over  PctUnemployed16_Over  PctPrivateCoverage  \\\n",
       "0                54.6                   5.4                70.2   \n",
       "1                47.7                   9.2                52.4   \n",
       "\n",
       "   PctEmpPrivCoverage  PctPublicCoverage  PctPublicCoverageAlone   PctWhite  \\\n",
       "0                46.0               38.5                    19.5  96.374269   \n",
       "1                28.7               44.9                    23.5  66.207829   \n",
       "\n",
       "   PctBlack  PctAsian  PctOtherRace  PctMarriedHouseholds  BirthRate  \\\n",
       "0  1.684211  0.526316      0.181287             47.898380   4.048468   \n",
       "1  0.304282  1.144679      1.113285             52.937625   4.550419   \n",
       "\n",
       "   Geography_EAST  Geography_WEST  \n",
       "0               0               0  \n",
       "1               0               0  "
      ]
     },
     "execution_count": 3,
     "metadata": {},
     "output_type": "execute_result"
    }
   ],
   "source": [
    "train_df.head(2)"
   ]
  },
  {
   "cell_type": "code",
   "execution_count": 4,
   "id": "019c8408",
   "metadata": {},
   "outputs": [
    {
     "data": {
      "text/html": [
       "<div>\n",
       "<style scoped>\n",
       "    .dataframe tbody tr th:only-of-type {\n",
       "        vertical-align: middle;\n",
       "    }\n",
       "\n",
       "    .dataframe tbody tr th {\n",
       "        vertical-align: top;\n",
       "    }\n",
       "\n",
       "    .dataframe thead th {\n",
       "        text-align: right;\n",
       "    }\n",
       "</style>\n",
       "<table border=\"1\" class=\"dataframe\">\n",
       "  <thead>\n",
       "    <tr style=\"text-align: right;\">\n",
       "      <th></th>\n",
       "      <th>avgAnnCount</th>\n",
       "      <th>avgDeathsPerYear</th>\n",
       "      <th>TARGET_deathRate</th>\n",
       "      <th>incidenceRate</th>\n",
       "      <th>medIncome</th>\n",
       "      <th>popEst2015</th>\n",
       "      <th>povertyPercent</th>\n",
       "      <th>studyPerCap</th>\n",
       "      <th>binnedInc</th>\n",
       "      <th>MedianAge</th>\n",
       "      <th>MedianAgeMale</th>\n",
       "      <th>MedianAgeFemale</th>\n",
       "      <th>AvgHouseholdSize</th>\n",
       "      <th>PercentMarried</th>\n",
       "      <th>PctNoHS18_24</th>\n",
       "      <th>PctHS18_24</th>\n",
       "      <th>PctBachDeg18_24</th>\n",
       "      <th>PctHS25_Over</th>\n",
       "      <th>PctBachDeg25_Over</th>\n",
       "      <th>PctEmployed16_Over</th>\n",
       "      <th>PctUnemployed16_Over</th>\n",
       "      <th>PctPrivateCoverage</th>\n",
       "      <th>PctEmpPrivCoverage</th>\n",
       "      <th>PctPublicCoverage</th>\n",
       "      <th>PctPublicCoverageAlone</th>\n",
       "      <th>PctWhite</th>\n",
       "      <th>PctBlack</th>\n",
       "      <th>PctAsian</th>\n",
       "      <th>PctOtherRace</th>\n",
       "      <th>PctMarriedHouseholds</th>\n",
       "      <th>BirthRate</th>\n",
       "      <th>Geography_EAST</th>\n",
       "      <th>Geography_WEST</th>\n",
       "    </tr>\n",
       "  </thead>\n",
       "  <tbody>\n",
       "    <tr>\n",
       "      <th>0</th>\n",
       "      <td>104.0</td>\n",
       "      <td>46</td>\n",
       "      <td>170.4</td>\n",
       "      <td>401.9</td>\n",
       "      <td>38504</td>\n",
       "      <td>22633</td>\n",
       "      <td>21.5</td>\n",
       "      <td>0.0</td>\n",
       "      <td>38888.25</td>\n",
       "      <td>34.0</td>\n",
       "      <td>32.6</td>\n",
       "      <td>35.6</td>\n",
       "      <td>2.28</td>\n",
       "      <td>43.1</td>\n",
       "      <td>4.9</td>\n",
       "      <td>13.0</td>\n",
       "      <td>5.8</td>\n",
       "      <td>33.6</td>\n",
       "      <td>14.1</td>\n",
       "      <td>51.8</td>\n",
       "      <td>8.4</td>\n",
       "      <td>65.3</td>\n",
       "      <td>43.2</td>\n",
       "      <td>35.9</td>\n",
       "      <td>19.1</td>\n",
       "      <td>73.337436</td>\n",
       "      <td>23.915432</td>\n",
       "      <td>0.835128</td>\n",
       "      <td>0.492286</td>\n",
       "      <td>44.130860</td>\n",
       "      <td>3.697749</td>\n",
       "      <td>0</td>\n",
       "      <td>0</td>\n",
       "    </tr>\n",
       "    <tr>\n",
       "      <th>1</th>\n",
       "      <td>20.0</td>\n",
       "      <td>10</td>\n",
       "      <td>187.4</td>\n",
       "      <td>400.6</td>\n",
       "      <td>43883</td>\n",
       "      <td>3091</td>\n",
       "      <td>12.1</td>\n",
       "      <td>0.0</td>\n",
       "      <td>43962.70</td>\n",
       "      <td>49.5</td>\n",
       "      <td>47.7</td>\n",
       "      <td>50.5</td>\n",
       "      <td>2.21</td>\n",
       "      <td>61.0</td>\n",
       "      <td>11.9</td>\n",
       "      <td>14.8</td>\n",
       "      <td>14.2</td>\n",
       "      <td>42.3</td>\n",
       "      <td>10.0</td>\n",
       "      <td>62.2</td>\n",
       "      <td>3.1</td>\n",
       "      <td>75.6</td>\n",
       "      <td>44.3</td>\n",
       "      <td>35.3</td>\n",
       "      <td>14.8</td>\n",
       "      <td>97.907950</td>\n",
       "      <td>1.223045</td>\n",
       "      <td>0.193112</td>\n",
       "      <td>0.418410</td>\n",
       "      <td>53.957879</td>\n",
       "      <td>7.992565</td>\n",
       "      <td>0</td>\n",
       "      <td>0</td>\n",
       "    </tr>\n",
       "  </tbody>\n",
       "</table>\n",
       "</div>"
      ],
      "text/plain": [
       "   avgAnnCount  avgDeathsPerYear  TARGET_deathRate  incidenceRate  medIncome  \\\n",
       "0        104.0                46             170.4          401.9      38504   \n",
       "1         20.0                10             187.4          400.6      43883   \n",
       "\n",
       "   popEst2015  povertyPercent  studyPerCap  binnedInc  MedianAge  \\\n",
       "0       22633            21.5          0.0   38888.25       34.0   \n",
       "1        3091            12.1          0.0   43962.70       49.5   \n",
       "\n",
       "   MedianAgeMale  MedianAgeFemale  AvgHouseholdSize  PercentMarried  \\\n",
       "0           32.6             35.6              2.28            43.1   \n",
       "1           47.7             50.5              2.21            61.0   \n",
       "\n",
       "   PctNoHS18_24  PctHS18_24  PctBachDeg18_24  PctHS25_Over  PctBachDeg25_Over  \\\n",
       "0           4.9        13.0              5.8          33.6               14.1   \n",
       "1          11.9        14.8             14.2          42.3               10.0   \n",
       "\n",
       "   PctEmployed16_Over  PctUnemployed16_Over  PctPrivateCoverage  \\\n",
       "0                51.8                   8.4                65.3   \n",
       "1                62.2                   3.1                75.6   \n",
       "\n",
       "   PctEmpPrivCoverage  PctPublicCoverage  PctPublicCoverageAlone   PctWhite  \\\n",
       "0                43.2               35.9                    19.1  73.337436   \n",
       "1                44.3               35.3                    14.8  97.907950   \n",
       "\n",
       "    PctBlack  PctAsian  PctOtherRace  PctMarriedHouseholds  BirthRate  \\\n",
       "0  23.915432  0.835128      0.492286             44.130860   3.697749   \n",
       "1   1.223045  0.193112      0.418410             53.957879   7.992565   \n",
       "\n",
       "   Geography_EAST  Geography_WEST  \n",
       "0               0               0  \n",
       "1               0               0  "
      ]
     },
     "execution_count": 4,
     "metadata": {},
     "output_type": "execute_result"
    }
   ],
   "source": [
    "test_df.head(2)"
   ]
  },
  {
   "cell_type": "markdown",
   "id": "133156a6",
   "metadata": {},
   "source": [
    "## 3. PREPROCESSING"
   ]
  },
  {
   "cell_type": "code",
   "execution_count": 5,
   "id": "2fc7e772",
   "metadata": {},
   "outputs": [],
   "source": [
    "# Defining kfold validation\n",
    "cv = KFold(n_splits=5) "
   ]
  },
  {
   "cell_type": "code",
   "execution_count": 6,
   "id": "976eeaf2",
   "metadata": {},
   "outputs": [],
   "source": [
    "# Defining X_train, Y_train, X_test, Y_test\n",
    "X_train = train_df.drop(columns = 'TARGET_deathRate')\n",
    "Y_train = train_df[ 'TARGET_deathRate']\n",
    "\n",
    "X_test = test_df.drop(columns = 'TARGET_deathRate')\n",
    "Y_test = test_df[ 'TARGET_deathRate']"
   ]
  },
  {
   "cell_type": "code",
   "execution_count": 7,
   "id": "75abb03f",
   "metadata": {},
   "outputs": [
    {
     "data": {
      "text/html": [
       "<div>\n",
       "<style scoped>\n",
       "    .dataframe tbody tr th:only-of-type {\n",
       "        vertical-align: middle;\n",
       "    }\n",
       "\n",
       "    .dataframe tbody tr th {\n",
       "        vertical-align: top;\n",
       "    }\n",
       "\n",
       "    .dataframe thead th {\n",
       "        text-align: right;\n",
       "    }\n",
       "</style>\n",
       "<table border=\"1\" class=\"dataframe\">\n",
       "  <thead>\n",
       "    <tr style=\"text-align: right;\">\n",
       "      <th></th>\n",
       "      <th>avgAnnCount</th>\n",
       "      <th>avgDeathsPerYear</th>\n",
       "      <th>incidenceRate</th>\n",
       "      <th>medIncome</th>\n",
       "      <th>popEst2015</th>\n",
       "      <th>povertyPercent</th>\n",
       "      <th>studyPerCap</th>\n",
       "      <th>binnedInc</th>\n",
       "      <th>MedianAge</th>\n",
       "      <th>MedianAgeMale</th>\n",
       "      <th>MedianAgeFemale</th>\n",
       "      <th>AvgHouseholdSize</th>\n",
       "      <th>PercentMarried</th>\n",
       "      <th>PctNoHS18_24</th>\n",
       "      <th>PctHS18_24</th>\n",
       "      <th>PctBachDeg18_24</th>\n",
       "      <th>PctHS25_Over</th>\n",
       "      <th>PctBachDeg25_Over</th>\n",
       "      <th>PctEmployed16_Over</th>\n",
       "      <th>PctUnemployed16_Over</th>\n",
       "      <th>PctPrivateCoverage</th>\n",
       "      <th>PctEmpPrivCoverage</th>\n",
       "      <th>PctPublicCoverage</th>\n",
       "      <th>PctPublicCoverageAlone</th>\n",
       "      <th>PctWhite</th>\n",
       "      <th>PctBlack</th>\n",
       "      <th>PctAsian</th>\n",
       "      <th>PctOtherRace</th>\n",
       "      <th>PctMarriedHouseholds</th>\n",
       "      <th>BirthRate</th>\n",
       "      <th>Geography_EAST</th>\n",
       "      <th>Geography_WEST</th>\n",
       "    </tr>\n",
       "  </thead>\n",
       "  <tbody>\n",
       "    <tr>\n",
       "      <th>0</th>\n",
       "      <td>245.0</td>\n",
       "      <td>95</td>\n",
       "      <td>535.2</td>\n",
       "      <td>46870</td>\n",
       "      <td>33642</td>\n",
       "      <td>14.4</td>\n",
       "      <td>0.0</td>\n",
       "      <td>46611.30</td>\n",
       "      <td>42.0</td>\n",
       "      <td>40.4</td>\n",
       "      <td>44.3</td>\n",
       "      <td>2.31</td>\n",
       "      <td>51.1</td>\n",
       "      <td>17.2</td>\n",
       "      <td>43.0</td>\n",
       "      <td>4.7</td>\n",
       "      <td>44.1</td>\n",
       "      <td>9.6</td>\n",
       "      <td>54.6</td>\n",
       "      <td>5.4</td>\n",
       "      <td>70.2</td>\n",
       "      <td>46.0</td>\n",
       "      <td>38.5</td>\n",
       "      <td>19.5</td>\n",
       "      <td>96.374269</td>\n",
       "      <td>1.684211</td>\n",
       "      <td>0.526316</td>\n",
       "      <td>0.181287</td>\n",
       "      <td>47.898380</td>\n",
       "      <td>4.048468</td>\n",
       "      <td>0</td>\n",
       "      <td>0</td>\n",
       "    </tr>\n",
       "    <tr>\n",
       "      <th>1</th>\n",
       "      <td>241.0</td>\n",
       "      <td>112</td>\n",
       "      <td>408.4</td>\n",
       "      <td>36424</td>\n",
       "      <td>41459</td>\n",
       "      <td>18.8</td>\n",
       "      <td>0.0</td>\n",
       "      <td>35815.95</td>\n",
       "      <td>45.8</td>\n",
       "      <td>44.9</td>\n",
       "      <td>46.7</td>\n",
       "      <td>2.47</td>\n",
       "      <td>55.0</td>\n",
       "      <td>22.0</td>\n",
       "      <td>43.5</td>\n",
       "      <td>3.2</td>\n",
       "      <td>37.2</td>\n",
       "      <td>11.6</td>\n",
       "      <td>47.7</td>\n",
       "      <td>9.2</td>\n",
       "      <td>52.4</td>\n",
       "      <td>28.7</td>\n",
       "      <td>44.9</td>\n",
       "      <td>23.5</td>\n",
       "      <td>66.207829</td>\n",
       "      <td>0.304282</td>\n",
       "      <td>1.144679</td>\n",
       "      <td>1.113285</td>\n",
       "      <td>52.937625</td>\n",
       "      <td>4.550419</td>\n",
       "      <td>0</td>\n",
       "      <td>0</td>\n",
       "    </tr>\n",
       "  </tbody>\n",
       "</table>\n",
       "</div>"
      ],
      "text/plain": [
       "   avgAnnCount  avgDeathsPerYear  incidenceRate  medIncome  popEst2015  \\\n",
       "0        245.0                95          535.2      46870       33642   \n",
       "1        241.0               112          408.4      36424       41459   \n",
       "\n",
       "   povertyPercent  studyPerCap  binnedInc  MedianAge  MedianAgeMale  \\\n",
       "0            14.4          0.0   46611.30       42.0           40.4   \n",
       "1            18.8          0.0   35815.95       45.8           44.9   \n",
       "\n",
       "   MedianAgeFemale  AvgHouseholdSize  PercentMarried  PctNoHS18_24  \\\n",
       "0             44.3              2.31            51.1          17.2   \n",
       "1             46.7              2.47            55.0          22.0   \n",
       "\n",
       "   PctHS18_24  PctBachDeg18_24  PctHS25_Over  PctBachDeg25_Over  \\\n",
       "0        43.0              4.7          44.1                9.6   \n",
       "1        43.5              3.2          37.2               11.6   \n",
       "\n",
       "   PctEmployed16_Over  PctUnemployed16_Over  PctPrivateCoverage  \\\n",
       "0                54.6                   5.4                70.2   \n",
       "1                47.7                   9.2                52.4   \n",
       "\n",
       "   PctEmpPrivCoverage  PctPublicCoverage  PctPublicCoverageAlone   PctWhite  \\\n",
       "0                46.0               38.5                    19.5  96.374269   \n",
       "1                28.7               44.9                    23.5  66.207829   \n",
       "\n",
       "   PctBlack  PctAsian  PctOtherRace  PctMarriedHouseholds  BirthRate  \\\n",
       "0  1.684211  0.526316      0.181287             47.898380   4.048468   \n",
       "1  0.304282  1.144679      1.113285             52.937625   4.550419   \n",
       "\n",
       "   Geography_EAST  Geography_WEST  \n",
       "0               0               0  \n",
       "1               0               0  "
      ]
     },
     "execution_count": 7,
     "metadata": {},
     "output_type": "execute_result"
    }
   ],
   "source": [
    "X_train.head(2)"
   ]
  },
  {
   "cell_type": "code",
   "execution_count": 8,
   "id": "9a0e7975",
   "metadata": {},
   "outputs": [
    {
     "data": {
      "text/html": [
       "<div>\n",
       "<style scoped>\n",
       "    .dataframe tbody tr th:only-of-type {\n",
       "        vertical-align: middle;\n",
       "    }\n",
       "\n",
       "    .dataframe tbody tr th {\n",
       "        vertical-align: top;\n",
       "    }\n",
       "\n",
       "    .dataframe thead th {\n",
       "        text-align: right;\n",
       "    }\n",
       "</style>\n",
       "<table border=\"1\" class=\"dataframe\">\n",
       "  <thead>\n",
       "    <tr style=\"text-align: right;\">\n",
       "      <th></th>\n",
       "      <th>avgAnnCount</th>\n",
       "      <th>avgDeathsPerYear</th>\n",
       "      <th>incidenceRate</th>\n",
       "      <th>medIncome</th>\n",
       "      <th>popEst2015</th>\n",
       "      <th>povertyPercent</th>\n",
       "      <th>studyPerCap</th>\n",
       "      <th>binnedInc</th>\n",
       "      <th>MedianAge</th>\n",
       "      <th>MedianAgeMale</th>\n",
       "      <th>MedianAgeFemale</th>\n",
       "      <th>AvgHouseholdSize</th>\n",
       "      <th>PercentMarried</th>\n",
       "      <th>PctNoHS18_24</th>\n",
       "      <th>PctHS18_24</th>\n",
       "      <th>PctBachDeg18_24</th>\n",
       "      <th>PctHS25_Over</th>\n",
       "      <th>PctBachDeg25_Over</th>\n",
       "      <th>PctEmployed16_Over</th>\n",
       "      <th>PctUnemployed16_Over</th>\n",
       "      <th>PctPrivateCoverage</th>\n",
       "      <th>PctEmpPrivCoverage</th>\n",
       "      <th>PctPublicCoverage</th>\n",
       "      <th>PctPublicCoverageAlone</th>\n",
       "      <th>PctWhite</th>\n",
       "      <th>PctBlack</th>\n",
       "      <th>PctAsian</th>\n",
       "      <th>PctOtherRace</th>\n",
       "      <th>PctMarriedHouseholds</th>\n",
       "      <th>BirthRate</th>\n",
       "      <th>Geography_EAST</th>\n",
       "      <th>Geography_WEST</th>\n",
       "    </tr>\n",
       "  </thead>\n",
       "  <tbody>\n",
       "    <tr>\n",
       "      <th>0</th>\n",
       "      <td>104.0</td>\n",
       "      <td>46</td>\n",
       "      <td>401.9</td>\n",
       "      <td>38504</td>\n",
       "      <td>22633</td>\n",
       "      <td>21.5</td>\n",
       "      <td>0.0</td>\n",
       "      <td>38888.25</td>\n",
       "      <td>34.0</td>\n",
       "      <td>32.6</td>\n",
       "      <td>35.6</td>\n",
       "      <td>2.28</td>\n",
       "      <td>43.1</td>\n",
       "      <td>4.9</td>\n",
       "      <td>13.0</td>\n",
       "      <td>5.8</td>\n",
       "      <td>33.6</td>\n",
       "      <td>14.1</td>\n",
       "      <td>51.8</td>\n",
       "      <td>8.4</td>\n",
       "      <td>65.3</td>\n",
       "      <td>43.2</td>\n",
       "      <td>35.9</td>\n",
       "      <td>19.1</td>\n",
       "      <td>73.337436</td>\n",
       "      <td>23.915432</td>\n",
       "      <td>0.835128</td>\n",
       "      <td>0.492286</td>\n",
       "      <td>44.130860</td>\n",
       "      <td>3.697749</td>\n",
       "      <td>0</td>\n",
       "      <td>0</td>\n",
       "    </tr>\n",
       "    <tr>\n",
       "      <th>1</th>\n",
       "      <td>20.0</td>\n",
       "      <td>10</td>\n",
       "      <td>400.6</td>\n",
       "      <td>43883</td>\n",
       "      <td>3091</td>\n",
       "      <td>12.1</td>\n",
       "      <td>0.0</td>\n",
       "      <td>43962.70</td>\n",
       "      <td>49.5</td>\n",
       "      <td>47.7</td>\n",
       "      <td>50.5</td>\n",
       "      <td>2.21</td>\n",
       "      <td>61.0</td>\n",
       "      <td>11.9</td>\n",
       "      <td>14.8</td>\n",
       "      <td>14.2</td>\n",
       "      <td>42.3</td>\n",
       "      <td>10.0</td>\n",
       "      <td>62.2</td>\n",
       "      <td>3.1</td>\n",
       "      <td>75.6</td>\n",
       "      <td>44.3</td>\n",
       "      <td>35.3</td>\n",
       "      <td>14.8</td>\n",
       "      <td>97.907950</td>\n",
       "      <td>1.223045</td>\n",
       "      <td>0.193112</td>\n",
       "      <td>0.418410</td>\n",
       "      <td>53.957879</td>\n",
       "      <td>7.992565</td>\n",
       "      <td>0</td>\n",
       "      <td>0</td>\n",
       "    </tr>\n",
       "  </tbody>\n",
       "</table>\n",
       "</div>"
      ],
      "text/plain": [
       "   avgAnnCount  avgDeathsPerYear  incidenceRate  medIncome  popEst2015  \\\n",
       "0        104.0                46          401.9      38504       22633   \n",
       "1         20.0                10          400.6      43883        3091   \n",
       "\n",
       "   povertyPercent  studyPerCap  binnedInc  MedianAge  MedianAgeMale  \\\n",
       "0            21.5          0.0   38888.25       34.0           32.6   \n",
       "1            12.1          0.0   43962.70       49.5           47.7   \n",
       "\n",
       "   MedianAgeFemale  AvgHouseholdSize  PercentMarried  PctNoHS18_24  \\\n",
       "0             35.6              2.28            43.1           4.9   \n",
       "1             50.5              2.21            61.0          11.9   \n",
       "\n",
       "   PctHS18_24  PctBachDeg18_24  PctHS25_Over  PctBachDeg25_Over  \\\n",
       "0        13.0              5.8          33.6               14.1   \n",
       "1        14.8             14.2          42.3               10.0   \n",
       "\n",
       "   PctEmployed16_Over  PctUnemployed16_Over  PctPrivateCoverage  \\\n",
       "0                51.8                   8.4                65.3   \n",
       "1                62.2                   3.1                75.6   \n",
       "\n",
       "   PctEmpPrivCoverage  PctPublicCoverage  PctPublicCoverageAlone   PctWhite  \\\n",
       "0                43.2               35.9                    19.1  73.337436   \n",
       "1                44.3               35.3                    14.8  97.907950   \n",
       "\n",
       "    PctBlack  PctAsian  PctOtherRace  PctMarriedHouseholds  BirthRate  \\\n",
       "0  23.915432  0.835128      0.492286             44.130860   3.697749   \n",
       "1   1.223045  0.193112      0.418410             53.957879   7.992565   \n",
       "\n",
       "   Geography_EAST  Geography_WEST  \n",
       "0               0               0  \n",
       "1               0               0  "
      ]
     },
     "execution_count": 8,
     "metadata": {},
     "output_type": "execute_result"
    }
   ],
   "source": [
    "X_test.head(2)"
   ]
  },
  {
   "cell_type": "markdown",
   "id": "7cb2f48d",
   "metadata": {},
   "source": [
    "## 4. ADABOOST"
   ]
  },
  {
   "cell_type": "code",
   "execution_count": 9,
   "id": "fa979945",
   "metadata": {},
   "outputs": [],
   "source": [
    "# Defining Grid for GridSearchCV\n",
    "\n",
    "grid = {'base_estimator': [DecisionTreeRegressor(), LinearRegression(), KNeighborsRegressor()], \n",
    "        'n_estimators': [5,10,15,20,25],\n",
    "        'learning_rate': [0.001, 0.01, 0.1, 0.3, 0.5],\n",
    "        'loss' : ['linear', 'square', 'exponential']}"
   ]
  },
  {
   "cell_type": "code",
   "execution_count": 10,
   "id": "a3f145a5",
   "metadata": {},
   "outputs": [],
   "source": [
    "# Instantiating GridSearchCV \n",
    "\n",
    "AdaBoost_search = GridSearchCV(AdaBoostRegressor(random_state = 126), \n",
    "                            grid, scoring='neg_mean_squared_error', cv=cv, n_jobs=-1 ,verbose = 1)"
   ]
  },
  {
   "cell_type": "code",
   "execution_count": 11,
   "id": "cce24111",
   "metadata": {},
   "outputs": [
    {
     "name": "stdout",
     "output_type": "stream",
     "text": [
      "Fitting 5 folds for each of 225 candidates, totalling 1125 fits\n"
     ]
    }
   ],
   "source": [
    "# Searching for the best parameters \n",
    "\n",
    "CV_AdaBoost_results = AdaBoost_search.fit(X_train, Y_train)"
   ]
  },
  {
   "cell_type": "code",
   "execution_count": 12,
   "id": "b636d0b5",
   "metadata": {},
   "outputs": [
    {
     "data": {
      "text/html": [
       "<div>\n",
       "<style scoped>\n",
       "    .dataframe tbody tr th:only-of-type {\n",
       "        vertical-align: middle;\n",
       "    }\n",
       "\n",
       "    .dataframe tbody tr th {\n",
       "        vertical-align: top;\n",
       "    }\n",
       "\n",
       "    .dataframe thead th {\n",
       "        text-align: right;\n",
       "    }\n",
       "</style>\n",
       "<table border=\"1\" class=\"dataframe\">\n",
       "  <thead>\n",
       "    <tr style=\"text-align: right;\">\n",
       "      <th></th>\n",
       "      <th>Best AdaBoost Regression Parameters</th>\n",
       "    </tr>\n",
       "  </thead>\n",
       "  <tbody>\n",
       "    <tr>\n",
       "      <th>base_estimator</th>\n",
       "      <td>DecisionTreeRegressor()</td>\n",
       "    </tr>\n",
       "    <tr>\n",
       "      <th>learning_rate</th>\n",
       "      <td>0.5</td>\n",
       "    </tr>\n",
       "    <tr>\n",
       "      <th>loss</th>\n",
       "      <td>linear</td>\n",
       "    </tr>\n",
       "    <tr>\n",
       "      <th>n_estimators</th>\n",
       "      <td>25</td>\n",
       "    </tr>\n",
       "  </tbody>\n",
       "</table>\n",
       "</div>"
      ],
      "text/plain": [
       "               Best AdaBoost Regression Parameters\n",
       "base_estimator             DecisionTreeRegressor()\n",
       "learning_rate                                  0.5\n",
       "loss                                        linear\n",
       "n_estimators                                    25"
      ]
     },
     "execution_count": 12,
     "metadata": {},
     "output_type": "execute_result"
    }
   ],
   "source": [
    "# Displaying the best parameters \n",
    "\n",
    "AdaBoost_Best_Parameters = pd.DataFrame(CV_AdaBoost_results.best_params_,\n",
    "                                        index = ['Best AdaBoost Regression Parameters'])\n",
    "\n",
    "AdaBoost_Best_Parameters = AdaBoost_Best_Parameters.transpose()\n",
    "AdaBoost_Best_Parameters"
   ]
  },
  {
   "cell_type": "code",
   "execution_count": 13,
   "id": "bd0dd9f0",
   "metadata": {},
   "outputs": [],
   "source": [
    "# Storing the values of the best parameters\n",
    "\n",
    "best_estimator = CV_AdaBoost_results.best_params_['base_estimator']\n",
    "best_n_estimators = CV_AdaBoost_results.best_params_['n_estimators']\n",
    "best_learning_rate = CV_AdaBoost_results.best_params_['learning_rate']\n",
    "best_loss = CV_AdaBoost_results.best_params_['loss']"
   ]
  },
  {
   "cell_type": "code",
   "execution_count": 14,
   "id": "3794604d",
   "metadata": {},
   "outputs": [],
   "source": [
    "# Instantiating the best model\n",
    "\n",
    "AdaBoostModel = AdaBoostRegressor(random_state = 126,\n",
    "                                 base_estimator = best_estimator,\n",
    "                                 n_estimators = best_n_estimators, \n",
    "                                  learning_rate = best_learning_rate, \n",
    "                                  loss = best_loss).fit(X_train, Y_train)\n"
   ]
  },
  {
   "cell_type": "code",
   "execution_count": 15,
   "id": "cd6299b2",
   "metadata": {},
   "outputs": [],
   "source": [
    "# Getting the R^2\n",
    "\n",
    "AB_R2 = np.round(AdaBoostModel.score(X_train, Y_train),3)"
   ]
  },
  {
   "cell_type": "code",
   "execution_count": 16,
   "id": "578f3863",
   "metadata": {},
   "outputs": [],
   "source": [
    "# Getting predictions and training MSE \n",
    "\n",
    "AdaBoostPredictions = AdaBoostModel.predict(X_train)\n",
    "AdaBoost_Training_MSE = np.round(mean_squared_error(Y_train, AdaBoostPredictions),2)"
   ]
  },
  {
   "cell_type": "code",
   "execution_count": 17,
   "id": "dc9393f3",
   "metadata": {},
   "outputs": [],
   "source": [
    "# Getting kfold MSE \n",
    "\n",
    "adaboost_cv_MSE = round(np.mean(cross_val_score(AdaBoostModel, X_train, Y_train, cv=cv, \n",
    "                                          scoring='neg_mean_squared_error', error_score='raise') * (-1)),1)\n"
   ]
  },
  {
   "cell_type": "code",
   "execution_count": 18,
   "id": "8e11533d",
   "metadata": {},
   "outputs": [],
   "source": [
    "# Getting predictions and test MSE \n",
    "\n",
    "ADABOOST_predictions = AdaBoostModel.predict(X_test)\n",
    "ADABOOST_Test_MSE = round(mean_squared_error(Y_test, ADABOOST_predictions), 2)"
   ]
  },
  {
   "cell_type": "code",
   "execution_count": 19,
   "id": "1d407a26",
   "metadata": {},
   "outputs": [],
   "source": [
    "# Dictionary that holds the performance metrics \n",
    "\n",
    "dict1 = {'AdaBoost': (np.round(AB_R2,3), AdaBoost_Training_MSE,\n",
    "                                            adaboost_cv_MSE, ADABOOST_Test_MSE )}"
   ]
  },
  {
   "cell_type": "code",
   "execution_count": 20,
   "id": "531b08ae",
   "metadata": {},
   "outputs": [],
   "source": [
    "# Creating a dataframe to easily present the results \n",
    "\n",
    "Evaluation_df = pd.DataFrame(dict1, index=['R^2','Training_MSE','Training_MSE (KFold)', 'Test_MSE'])"
   ]
  },
  {
   "cell_type": "code",
   "execution_count": 21,
   "id": "35cdb971",
   "metadata": {
    "scrolled": true
   },
   "outputs": [
    {
     "data": {
      "text/html": [
       "<div>\n",
       "<style scoped>\n",
       "    .dataframe tbody tr th:only-of-type {\n",
       "        vertical-align: middle;\n",
       "    }\n",
       "\n",
       "    .dataframe tbody tr th {\n",
       "        vertical-align: top;\n",
       "    }\n",
       "\n",
       "    .dataframe thead th {\n",
       "        text-align: right;\n",
       "    }\n",
       "</style>\n",
       "<table border=\"1\" class=\"dataframe\">\n",
       "  <thead>\n",
       "    <tr style=\"text-align: right;\">\n",
       "      <th></th>\n",
       "      <th>AdaBoost</th>\n",
       "    </tr>\n",
       "  </thead>\n",
       "  <tbody>\n",
       "    <tr>\n",
       "      <th>R^2</th>\n",
       "      <td>1.00</td>\n",
       "    </tr>\n",
       "    <tr>\n",
       "      <th>Training_MSE</th>\n",
       "      <td>0.10</td>\n",
       "    </tr>\n",
       "    <tr>\n",
       "      <th>Training_MSE (KFold)</th>\n",
       "      <td>363.10</td>\n",
       "    </tr>\n",
       "    <tr>\n",
       "      <th>Test_MSE</th>\n",
       "      <td>295.11</td>\n",
       "    </tr>\n",
       "  </tbody>\n",
       "</table>\n",
       "</div>"
      ],
      "text/plain": [
       "                      AdaBoost\n",
       "R^2                       1.00\n",
       "Training_MSE              0.10\n",
       "Training_MSE (KFold)    363.10\n",
       "Test_MSE                295.11"
      ]
     },
     "execution_count": 21,
     "metadata": {},
     "output_type": "execute_result"
    }
   ],
   "source": [
    "# Displaying the metrics\n",
    "\n",
    "Evaluation_df"
   ]
  },
  {
   "cell_type": "markdown",
   "id": "634d7552",
   "metadata": {},
   "source": [
    "## 5.GRADIENT BOOSTING"
   ]
  },
  {
   "cell_type": "code",
   "execution_count": 22,
   "id": "ebdc3c08",
   "metadata": {},
   "outputs": [],
   "source": [
    "# Defining Grid for GridSearchCV\n",
    "\n",
    "grid = {'min_samples_split' : [3,4,5],\n",
    "       'min_samples_leaf' : [4,5,6],\n",
    "       'max_depth' : [3,6,9,None],\n",
    "       'max_features' : ['sqrt', None],\n",
    "       'learning_rate': [0.001, 0.01],\n",
    "       'n_estimators': [5, 10, 15]}"
   ]
  },
  {
   "cell_type": "code",
   "execution_count": 23,
   "id": "a70dd5dc",
   "metadata": {},
   "outputs": [],
   "source": [
    "# Instantiating GridSearchCV \n",
    "\n",
    "GraBoost_search = GridSearchCV(GradientBoostingRegressor(random_state = 126), \n",
    "                            grid, scoring='neg_mean_squared_error', cv=cv, n_jobs=-1 ,verbose = 1)"
   ]
  },
  {
   "cell_type": "code",
   "execution_count": 24,
   "id": "f8046184",
   "metadata": {},
   "outputs": [
    {
     "name": "stdout",
     "output_type": "stream",
     "text": [
      "Fitting 5 folds for each of 432 candidates, totalling 2160 fits\n"
     ]
    }
   ],
   "source": [
    "# Searching for the best parameters \n",
    "\n",
    "CV_GraBoost_results = GraBoost_search.fit(X_train, Y_train)"
   ]
  },
  {
   "cell_type": "code",
   "execution_count": 25,
   "id": "20376a66",
   "metadata": {},
   "outputs": [
    {
     "data": {
      "text/html": [
       "<div>\n",
       "<style scoped>\n",
       "    .dataframe tbody tr th:only-of-type {\n",
       "        vertical-align: middle;\n",
       "    }\n",
       "\n",
       "    .dataframe tbody tr th {\n",
       "        vertical-align: top;\n",
       "    }\n",
       "\n",
       "    .dataframe thead th {\n",
       "        text-align: right;\n",
       "    }\n",
       "</style>\n",
       "<table border=\"1\" class=\"dataframe\">\n",
       "  <thead>\n",
       "    <tr style=\"text-align: right;\">\n",
       "      <th></th>\n",
       "      <th>Best Gradient Boosting Regression Parameters</th>\n",
       "    </tr>\n",
       "  </thead>\n",
       "  <tbody>\n",
       "    <tr>\n",
       "      <th>learning_rate</th>\n",
       "      <td>0.01</td>\n",
       "    </tr>\n",
       "    <tr>\n",
       "      <th>max_depth</th>\n",
       "      <td>9</td>\n",
       "    </tr>\n",
       "    <tr>\n",
       "      <th>max_features</th>\n",
       "      <td>None</td>\n",
       "    </tr>\n",
       "    <tr>\n",
       "      <th>min_samples_leaf</th>\n",
       "      <td>4</td>\n",
       "    </tr>\n",
       "    <tr>\n",
       "      <th>min_samples_split</th>\n",
       "      <td>3</td>\n",
       "    </tr>\n",
       "    <tr>\n",
       "      <th>n_estimators</th>\n",
       "      <td>15</td>\n",
       "    </tr>\n",
       "  </tbody>\n",
       "</table>\n",
       "</div>"
      ],
      "text/plain": [
       "                  Best Gradient Boosting Regression Parameters\n",
       "learning_rate                                             0.01\n",
       "max_depth                                                    9\n",
       "max_features                                              None\n",
       "min_samples_leaf                                             4\n",
       "min_samples_split                                            3\n",
       "n_estimators                                                15"
      ]
     },
     "execution_count": 25,
     "metadata": {},
     "output_type": "execute_result"
    }
   ],
   "source": [
    "# Displaying the best parameters \n",
    "\n",
    "GraBoost_Best_Parameters = pd.DataFrame(CV_GraBoost_results.best_params_,\n",
    "                                        index = ['Best Gradient Boosting Regression Parameters'])\n",
    "\n",
    "GraBoost_Best_Parameters = GraBoost_Best_Parameters.transpose()\n",
    "GraBoost_Best_Parameters"
   ]
  },
  {
   "cell_type": "code",
   "execution_count": 26,
   "id": "0629cd10",
   "metadata": {},
   "outputs": [],
   "source": [
    "# Storing the values of the best parameters\n",
    "\n",
    "best_min_samples_split = CV_GraBoost_results.best_params_['min_samples_split']\n",
    "best_min_samples_leaf = CV_GraBoost_results.best_params_['min_samples_leaf']\n",
    "best_max_depth = CV_GraBoost_results.best_params_['max_depth']\n",
    "best_max_features = CV_GraBoost_results.best_params_['max_features']\n",
    "best_learning_rate = CV_GraBoost_results.best_params_['learning_rate']\n",
    "best_n_estimators = CV_GraBoost_results.best_params_['n_estimators']"
   ]
  },
  {
   "cell_type": "code",
   "execution_count": 27,
   "id": "04ff58a3",
   "metadata": {},
   "outputs": [],
   "source": [
    "# Instantiating the best model\n",
    "\n",
    "GraBoostModel = GradientBoostingRegressor(random_state = 126, \n",
    "                                  min_samples_split = best_min_samples_split,\n",
    "                                  min_samples_leaf = best_min_samples_leaf, \n",
    "                                  max_depth = best_max_depth,\n",
    "                                  max_features = best_max_features,\n",
    "                                  learning_rate = best_learning_rate,\n",
    "                                  n_estimators = best_n_estimators).fit(X_train,Y_train)"
   ]
  },
  {
   "cell_type": "code",
   "execution_count": 28,
   "id": "79f2fe66",
   "metadata": {},
   "outputs": [],
   "source": [
    "# Getting the R^2\n",
    "\n",
    "GB_R2 = np.round(GraBoostModel.score(X_train,Y_train),3)"
   ]
  },
  {
   "cell_type": "code",
   "execution_count": 29,
   "id": "8e09a30b",
   "metadata": {},
   "outputs": [],
   "source": [
    "# Getting predictions and training MSE \n",
    "\n",
    "GraBoostPredictions = GraBoostModel.predict(X_train)\n",
    "GraBoost_Training_MSE = np.round(mean_squared_error(Y_train, GraBoostPredictions),2)"
   ]
  },
  {
   "cell_type": "code",
   "execution_count": 30,
   "id": "57da4442",
   "metadata": {},
   "outputs": [],
   "source": [
    "# Getting kfold MSE \n",
    "\n",
    "graboost_cv_MSE = round(np.mean(cross_val_score(GraBoostModel, X_train, Y_train, cv=cv, \n",
    "                                          scoring='neg_mean_squared_error', error_score='raise') * (-1)),1)"
   ]
  },
  {
   "cell_type": "code",
   "execution_count": 31,
   "id": "52227b36",
   "metadata": {},
   "outputs": [],
   "source": [
    "# Getting predictions and test MSE \n",
    "\n",
    "GRABOOST_predictions = GraBoostModel.predict(X_test)\n",
    "GRABOOST_Test_MSE = round(mean_squared_error(Y_test, GRABOOST_predictions), 2)"
   ]
  },
  {
   "cell_type": "code",
   "execution_count": 32,
   "id": "f39ab91c",
   "metadata": {},
   "outputs": [],
   "source": [
    "# Dictionary that holds the performance metrics \n",
    "\n",
    "dict2 = {'Gradient Boosting': (np.round(GB_R2,3), GraBoost_Training_MSE,\n",
    "                                            graboost_cv_MSE, GRABOOST_Test_MSE )}"
   ]
  },
  {
   "cell_type": "code",
   "execution_count": 33,
   "id": "a7206b36",
   "metadata": {},
   "outputs": [],
   "source": [
    "# Creating a dataframe to easily present the results \n",
    "\n",
    "Evaluation_df1 = pd.DataFrame(dict2, index=['R^2','Training_MSE','Training_MSE (KFold)', 'Test_MSE'])"
   ]
  },
  {
   "cell_type": "code",
   "execution_count": 34,
   "id": "24c857e9",
   "metadata": {},
   "outputs": [
    {
     "data": {
      "text/html": [
       "<div>\n",
       "<style scoped>\n",
       "    .dataframe tbody tr th:only-of-type {\n",
       "        vertical-align: middle;\n",
       "    }\n",
       "\n",
       "    .dataframe tbody tr th {\n",
       "        vertical-align: top;\n",
       "    }\n",
       "\n",
       "    .dataframe thead th {\n",
       "        text-align: right;\n",
       "    }\n",
       "</style>\n",
       "<table border=\"1\" class=\"dataframe\">\n",
       "  <thead>\n",
       "    <tr style=\"text-align: right;\">\n",
       "      <th></th>\n",
       "      <th>Gradient Boosting</th>\n",
       "    </tr>\n",
       "  </thead>\n",
       "  <tbody>\n",
       "    <tr>\n",
       "      <th>R^2</th>\n",
       "      <td>0.196</td>\n",
       "    </tr>\n",
       "    <tr>\n",
       "      <th>Training_MSE</th>\n",
       "      <td>580.950</td>\n",
       "    </tr>\n",
       "    <tr>\n",
       "      <th>Training_MSE (KFold)</th>\n",
       "      <td>635.700</td>\n",
       "    </tr>\n",
       "    <tr>\n",
       "      <th>Test_MSE</th>\n",
       "      <td>534.670</td>\n",
       "    </tr>\n",
       "  </tbody>\n",
       "</table>\n",
       "</div>"
      ],
      "text/plain": [
       "                      Gradient Boosting\n",
       "R^2                               0.196\n",
       "Training_MSE                    580.950\n",
       "Training_MSE (KFold)            635.700\n",
       "Test_MSE                        534.670"
      ]
     },
     "execution_count": 34,
     "metadata": {},
     "output_type": "execute_result"
    }
   ],
   "source": [
    "# Displaying the metrics\n",
    "\n",
    "Evaluation_df1"
   ]
  },
  {
   "cell_type": "markdown",
   "id": "4666606d",
   "metadata": {},
   "source": [
    "## 6. RESULTS"
   ]
  },
  {
   "cell_type": "markdown",
   "id": "70472f9d",
   "metadata": {},
   "source": [
    "__Aggragated Results__"
   ]
  },
  {
   "cell_type": "code",
   "execution_count": 35,
   "id": "00fae2ea",
   "metadata": {},
   "outputs": [
    {
     "data": {
      "text/html": [
       "<div>\n",
       "<style scoped>\n",
       "    .dataframe tbody tr th:only-of-type {\n",
       "        vertical-align: middle;\n",
       "    }\n",
       "\n",
       "    .dataframe tbody tr th {\n",
       "        vertical-align: top;\n",
       "    }\n",
       "\n",
       "    .dataframe thead th {\n",
       "        text-align: right;\n",
       "    }\n",
       "</style>\n",
       "<table border=\"1\" class=\"dataframe\">\n",
       "  <thead>\n",
       "    <tr style=\"text-align: right;\">\n",
       "      <th></th>\n",
       "      <th>AdaBoost</th>\n",
       "      <th>Gradient Boosting</th>\n",
       "    </tr>\n",
       "  </thead>\n",
       "  <tbody>\n",
       "    <tr>\n",
       "      <th>R^2</th>\n",
       "      <td>1.00</td>\n",
       "      <td>0.196</td>\n",
       "    </tr>\n",
       "    <tr>\n",
       "      <th>Training_MSE</th>\n",
       "      <td>0.10</td>\n",
       "      <td>580.950</td>\n",
       "    </tr>\n",
       "    <tr>\n",
       "      <th>Training_MSE (KFold)</th>\n",
       "      <td>363.10</td>\n",
       "      <td>635.700</td>\n",
       "    </tr>\n",
       "    <tr>\n",
       "      <th>Test_MSE</th>\n",
       "      <td>295.11</td>\n",
       "      <td>534.670</td>\n",
       "    </tr>\n",
       "  </tbody>\n",
       "</table>\n",
       "</div>"
      ],
      "text/plain": [
       "                      AdaBoost  Gradient Boosting\n",
       "R^2                       1.00              0.196\n",
       "Training_MSE              0.10            580.950\n",
       "Training_MSE (KFold)    363.10            635.700\n",
       "Test_MSE                295.11            534.670"
      ]
     },
     "execution_count": 35,
     "metadata": {},
     "output_type": "execute_result"
    }
   ],
   "source": [
    "Ensemble_Models_Part2_Results = pd.concat([Evaluation_df, Evaluation_df1], axis = 1)\n",
    "Ensemble_Models_Part2_Results"
   ]
  },
  {
   "cell_type": "markdown",
   "id": "aec8c427",
   "metadata": {},
   "source": [
    "__Residuals's Plots__"
   ]
  },
  {
   "cell_type": "code",
   "execution_count": 36,
   "id": "5963a175",
   "metadata": {},
   "outputs": [
    {
     "data": {
      "image/png": "[encoded data removed]",
      "text/plain": [
       "<Figure size 500x400 with 1 Axes>"
      ]
     },
     "metadata": {},
     "output_type": "display_data"
    }
   ],
   "source": [
    "residuals_adaboost = AdaBoostPredictions - Y_train \n",
    "\n",
    "sns.set_style(\"white\")\n",
    "    \n",
    "plt.figure(figsize=(5,4))\n",
    "    \n",
    "plt.hist(residuals_adaboost, bins = 20, color =  \"navy\")\n",
    "    \n",
    "plt.title(label = \"Distribution of Residuals (AdaBoost)\" , fontsize = 14, weight = 'bold')\n",
    "    \n",
    "sns.despine()\n",
    "    \n",
    "plt.show()"
   ]
  },
  {
   "cell_type": "code",
   "execution_count": 37,
   "id": "4a744937",
   "metadata": {},
   "outputs": [
    {
     "data": {
      "image/png": "[encoded data removed]",
      "text/plain": [
       "<Figure size 500x400 with 1 Axes>"
      ]
     },
     "metadata": {},
     "output_type": "display_data"
    }
   ],
   "source": [
    "residuals_graboost = GraBoostPredictions - Y_train \n",
    "\n",
    "sns.set_style(\"white\")\n",
    "    \n",
    "plt.figure(figsize=(5,4))\n",
    "    \n",
    "plt.hist(residuals_graboost, bins = 20, color = \"darkorchid\")\n",
    "    \n",
    "plt.title(label = \"Distribution of Residuals (Gradient Boosting)\" , fontsize = 14, weight = 'bold')\n",
    "    \n",
    "sns.despine()\n",
    "    \n",
    "plt.show()"
   ]
  },
  {
   "cell_type": "markdown",
   "id": "51a03bcd",
   "metadata": {},
   "source": [
    "AdaBoost tends to overfit the data, often resulting in a training error that approaches zero. Despite this tendency, AdaBoost demonstrates strong performance as indicated by acceptable cross-validated and test errors. On the other hand, Gradient Boosting exhibits less favorable performance compared to AdaBoost, struggling to achieve satisfactory results."
   ]
  },
  {
   "cell_type": "markdown",
   "id": "5c66cefd",
   "metadata": {},
   "source": [
    "__Saving the Results__"
   ]
  },
  {
   "cell_type": "code",
   "execution_count": 38,
   "id": "188ededc",
   "metadata": {},
   "outputs": [],
   "source": [
    "Ensemble_Models_Part2_Results.to_csv(r'Ensemble_Models_Part2_Results.csv', index=True, \n",
    "                                              index_label= 'Metrics')"
   ]
  }
 ],
 "metadata": {
  "kernelspec": {
   "display_name": "Python 3 (ipykernel)",
   "language": "python",
   "name": "python3"
  },
  "language_info": {
   "codemirror_mode": {
    "name": "ipython",
    "version": 3
   },
   "file_extension": ".py",
   "mimetype": "text/x-python",
   "name": "python",
   "nbconvert_exporter": "python",
   "pygments_lexer": "ipython3",
   "version": "3.11.5"
  }
 },
 "nbformat": 4,
 "nbformat_minor": 5
}
