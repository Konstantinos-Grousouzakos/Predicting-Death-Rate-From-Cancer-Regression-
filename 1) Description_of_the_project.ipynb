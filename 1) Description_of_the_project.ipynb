{
 "cells": [
  {
   "cell_type": "markdown",
   "id": "f4885c6e",
   "metadata": {},
   "source": [
    "# DESCRIPTION OF THE PROJECT"
   ]
  },
  {
   "cell_type": "markdown",
   "id": "94857cb3",
   "metadata": {},
   "source": [
    "## Background"
   ]
  },
  {
   "cell_type": "markdown",
   "id": "1fe3ef89",
   "metadata": {},
   "source": [
    "These data were aggregated from a number of sources including the American Community\n",
    "Survey (census.gov), clinicaltrials.gov, and cancer.gov."
   ]
  },
  {
   "cell_type": "markdown",
   "id": "77d68c50",
   "metadata": {},
   "source": [
    "## Goal"
   ]
  },
  {
   "cell_type": "markdown",
   "id": "b27349c3",
   "metadata": {},
   "source": [
    "The goal is to build a predictive model to predict \"TARGET_deathRate\"."
   ]
  },
  {
   "cell_type": "markdown",
   "id": "289da3b3",
   "metadata": {},
   "source": [
    "## Data Dictionary"
   ]
  },
  {
   "cell_type": "markdown",
   "id": "17de642e",
   "metadata": {},
   "source": [
    "TARGET_deathRate: Dependent variable. Mean per capita (100,000) cancer mortalities(a)\n",
    "\n",
    "avgAnnCount: Mean number of reported cases of cancer diagnosed annually(a)\n",
    "\n",
    "avgDeathsPerYear: Mean number of reported mortalities due to cancer(a)\n",
    "\n",
    "incidenceRate: Mean per capita (100,000) cancer diagnoses(a)\n",
    "\n",
    "medianIncome: Median income per county (b)\n",
    "\n",
    "popEst2015: Population of county (b)\n",
    "\n",
    "povertyPercent: Percent of populace in poverty (b)\n",
    "\n",
    "studyPerCap: Per capita number of cancer-related clinical trials per county (a)\n",
    "\n",
    "binnedInc: Median income per capita binned by decile (b)\n",
    "\n",
    "MedianAge: Median age of county residents (b)\n",
    "\n",
    "MedianAgeMale: Median age of male county residents (b)\n",
    "\n",
    "MedianAgeFemale: Median age of female county residents (b)\n",
    "\n",
    "Geography: County name (b)\n",
    "\n",
    "AvgHouseholdSize: Mean household size of county (b)\n",
    "\n",
    "PercentMarried: Percent of county residents who are married (b)\n",
    "\n",
    "PctNoHS18_24: Percent of county residents ages 18-24 highest education attained: less than high school (b)\n",
    "\n",
    "PctHS18_24: Percent of county residents ages 18-24 highest education attained: high school diploma (b)\n",
    "\n",
    "PctSomeCol18_24: Percent of county residents ages 18-24 highest education attained: some college (b)\n",
    "\n",
    "PctBachDeg18_24: Percent of county residents ages 18-24 highest education attained: bachelor's degree (b)\n",
    "\n",
    "PctHS25_Over: Percent of county residents ages 25 and over highest education attained: high school diploma (b)\n",
    "\n",
    "PctBachDeg25_Over: Percent of county residents ages 25 and over highest education attained: bachelor's degree (b)\n",
    "\n",
    "PctEmployed16_Over: Percent of county residents ages 16 and over employed (b)\n",
    "\n",
    "PctUnemployed16_Over: Percent of county residents ages 16 and over unemployed (b)\n",
    "\n",
    "PctPrivateCoverage: Percent of county residents with private health coverage (b)\n",
    "\n",
    "PctPrivateCoverageAlone: Percent of county residents with private health coverage alone (no public assistance) (b)\n",
    "\n",
    "PctEmpPrivCoverage: Percent of county residents with employee-provided private health coverage (b)\n",
    "\n",
    "PctPublicCoverage: Percent of county residents with government-provided health coverage (b)\n",
    "\n",
    "PctPubliceCoverageAlone: Percent of county residents with government-provided health coverage alone (b)\n",
    "\n",
    "PctWhite: Percent of county residents who identify as White (b)\n",
    "\n",
    "PctBlack: Percent of county residents who identify as Black (b)\n",
    "\n",
    "PctAsian: Percent of county residents who identify as Asian (b)\n",
    "\n",
    "PctOtherRace: Percent of county residents who identify in a category which is not White, Black, or Asian (b)\n",
    "\n",
    "PctMarriedHouseholds: Percent of married households (b)\n",
    "\n",
    "BirthRate: Number of live births relative to number of women in county (b)\n",
    "\n",
    "(a): years 2010-2016\n",
    "(b): 2013 Census Estimates\n",
    "\n",
    "Hyperlink to dataset: https://data.world/nrippner/ols-regression-challenge"
   ]
  },
  {
   "cell_type": "markdown",
   "id": "78e2ccff",
   "metadata": {},
   "source": [
    "## Jupyter Notebooks"
   ]
  },
  {
   "cell_type": "markdown",
   "id": "24a09385",
   "metadata": {},
   "source": [
    "Inspect the Jupyter Notebooks in order:\n",
    "\n",
    "In \"__2.1) Preprocessing_and_EDA_Part_1__\", we thoroughly examine and preprocess the dataset. Tasks include transforming categorical variables, addressing missing data, and handling outliers and high-leverage points. We also analyze variable distributions.\n"
   ]
  },
  {
   "cell_type": "markdown",
   "id": "fe7b1282",
   "metadata": {},
   "source": [
    "Moving to \"__2.2) Preprocessing_and_EDA_Part_2__,  we deepen our exploration. We use scatterplots, boxplots, and correlation matrices to visualize relationships and identify patterns. We apply dimensionality reduction and split the dataset for model evaluation."
   ]
  },
  {
   "cell_type": "markdown",
   "id": "f74b3b57",
   "metadata": {},
   "source": [
    "Transitioning to \"__3.1) Linear_Regression_Models_Part1__\", we initially focus on dimensionality reduction techniques. We reduce dataset complexity while retaining essential information using Principal Components Regression (PCR) and explore a polynomial version."
   ]
  },
  {
   "cell_type": "markdown",
   "id": "5d6ac88b",
   "metadata": {},
   "source": [
    "In \"__3.2) Linear_Regression_Models_Part2__\", we delve into the variable selection methods Forward Selection, Backwards Elimination and Stepwise Selection."
   ]
  },
  {
   "cell_type": "markdown",
   "id": "28d2ba00",
   "metadata": {},
   "source": [
    "In \"__3.3) Linear_Regression_Models_Part3__\", we implement variable selection via the regularization methods Ridge and Lasso Regression."
   ]
  },
  {
   "cell_type": "markdown",
   "id": "4b374d8c",
   "metadata": {},
   "source": [
    "Moving on to \"__4) KNN-Decision Tree__\", we evaluate KNN and Decision Tree algorithms' performance."
   ]
  },
  {
   "cell_type": "markdown",
   "id": "2c678649",
   "metadata": {},
   "source": [
    "In \"__5.1) Sklearn_Ensemble_Methods_Part1__\" and \"__5.2) Sklearn_Ensemble_Methods_Part2__\", we employ Scikit Learn's ensemble methods including Bagging, Random Forest, AdaBoost and Gradient Boosting Regression."
   ]
  },
  {
   "cell_type": "markdown",
   "id": "6d38cb61",
   "metadata": {},
   "source": [
    "In \"__6.1) XGBoost__\", \"__6.2) CatBoost__\" and \"__6.3) LightGBM__\", we implement the optimized boosting algorithms XGBoost, CatBoost and LightGBM."
   ]
  },
  {
   "cell_type": "markdown",
   "id": "398ce55a",
   "metadata": {},
   "source": [
    "In \"__7) SVR__\", we conduct Support Vector Regression."
   ]
  },
  {
   "cell_type": "markdown",
   "id": "93cbc421",
   "metadata": {},
   "source": [
    "Lastly, in \"__8) Results_and_Conclusions__\", we compare model performance metrics and identify the most accurate prediction method."
   ]
  },
  {
   "cell_type": "markdown",
   "id": "1f7a8b32",
   "metadata": {},
   "source": [
    "## Note 1: Scaling"
   ]
  },
  {
   "cell_type": "markdown",
   "id": "47515d95",
   "metadata": {},
   "source": [
    "Certain methods necessitated scaling of predictor variables, while others were indifferent to scaling. Nevertheless, we tested each model with and without scaling, and retained the version that yielded the best performance."
   ]
  },
  {
   "cell_type": "markdown",
   "id": "4bea4ced",
   "metadata": {},
   "source": [
    "## Note 2: Optimization of models"
   ]
  },
  {
   "cell_type": "markdown",
   "id": "769e1ad7",
   "metadata": {},
   "source": [
    "For every model optimized through the GridSearchCV method, we determined the values of hyperparameters to be examined by referring to literature, articles, and also sought assistance from ChatGPT."
   ]
  },
  {
   "cell_type": "markdown",
   "id": "2018355b",
   "metadata": {},
   "source": [
    "## Note 3: Updates"
   ]
  },
  {
   "cell_type": "markdown",
   "id": "1866032b",
   "metadata": {},
   "source": [
    "In the future, we may consider incorporating additional methods."
   ]
  }
 ],
 "metadata": {
  "kernelspec": {
   "display_name": "Python 3 (ipykernel)",
   "language": "python",
   "name": "python3"
  },
  "language_info": {
   "codemirror_mode": {
    "name": "ipython",
    "version": 3
   },
   "file_extension": ".py",
   "mimetype": "text/x-python",
   "name": "python",
   "nbconvert_exporter": "python",
   "pygments_lexer": "ipython3",
   "version": "3.11.5"
  }
 },
 "nbformat": 4,
 "nbformat_minor": 5
}
