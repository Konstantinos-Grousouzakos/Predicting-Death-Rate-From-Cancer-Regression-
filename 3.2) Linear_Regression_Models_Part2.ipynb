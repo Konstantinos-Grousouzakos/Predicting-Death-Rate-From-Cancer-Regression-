{
 "cells": [
  {
   "cell_type": "markdown",
   "id": "910ce941",
   "metadata": {},
   "source": [
    "# LINEAR REGRESSION MODELS PART 2"
   ]
  },
  {
   "cell_type": "markdown",
   "id": "1b548e39",
   "metadata": {},
   "source": [
    "## CONTENTS\n",
    "\n",
    "__1.INTRODUCTION__\n",
    "\n",
    "__2.LIBRARIES AND DATA__\n",
    "       \n",
    "__3.HELPER FUNCTIONS__\n",
    "\n",
    "__4.FORWARD SELECTION__\n",
    "             \n",
    "__5.BACKWARDS ELIMINATION__\n",
    "\n",
    "__6.STEPWISE SELECTION__\n",
    "\n",
    "__7.RESULTS__\n"
   ]
  },
  {
   "cell_type": "markdown",
   "id": "c37f1566",
   "metadata": {},
   "source": [
    "## 1. INTRODUCTION"
   ]
  },
  {
   "cell_type": "markdown",
   "id": "c1f67b09",
   "metadata": {},
   "source": [
    "In this Jupyter Notebook, we'll conduct predictor selection using Forward Selection, Backwards Elimination, and Stepwise Selection methods. Additionally, we'll evaluate the performance of the models."
   ]
  },
  {
   "cell_type": "markdown",
   "id": "e99231df",
   "metadata": {},
   "source": [
    "## 2. LIBRARIES AND DATA"
   ]
  },
  {
   "cell_type": "markdown",
   "id": "ff78ed51",
   "metadata": {},
   "source": [
    "__Libraries__"
   ]
  },
  {
   "cell_type": "code",
   "execution_count": 1,
   "id": "e241d3e2",
   "metadata": {},
   "outputs": [],
   "source": [
    "import pandas as pd\n",
    "import numpy as np\n",
    "import statsmodels.api as sm\n",
    "import matplotlib.pyplot as plt\n",
    "import seaborn as sns\n",
    "import random as rndm\n",
    "\n",
    "from sklearn.linear_model import LinearRegression\n",
    "from sklearn.model_selection import cross_val_score, KFold\n",
    "from sklearn.metrics import mean_squared_error, mean_absolute_error\n",
    "from sklearn.preprocessing import StandardScaler\n",
    "\n",
    "\n",
    "import warnings\n",
    "warnings.simplefilter(action='ignore', category=FutureWarning)"
   ]
  },
  {
   "cell_type": "markdown",
   "id": "19e70065",
   "metadata": {},
   "source": [
    "__Importing data__"
   ]
  },
  {
   "cell_type": "code",
   "execution_count": 2,
   "id": "9b06d7fc",
   "metadata": {},
   "outputs": [],
   "source": [
    "data1 = pd.read_csv(\"train_dataset.csv\") \n",
    "data2 = pd.read_csv(\"test_dataset.csv\") \n",
    "\n",
    "# Train and test Dataset\n",
    "train_df = data1.copy()\n",
    "test_df = data2.copy()"
   ]
  },
  {
   "cell_type": "code",
   "execution_count": 3,
   "id": "38d7cdf3",
   "metadata": {},
   "outputs": [],
   "source": [
    "# Defining X_train, Y_train, X_test, Y_test\n",
    "X_train = train_df.drop(columns = 'TARGET_deathRate')\n",
    "Y_train = train_df[ 'TARGET_deathRate']\n",
    "\n",
    "X_test = test_df.drop(columns = 'TARGET_deathRate')\n",
    "Y_test = test_df[ 'TARGET_deathRate']\n",
    "\n",
    "# Creating lists with the columns names\n",
    "cols = X_train.columns\n",
    "\n",
    "# Scaling the Xs\n",
    "X_train_sc = StandardScaler().fit_transform(X_train)\n",
    "X_test_sc = StandardScaler().fit_transform(X_test)\n",
    "\n",
    "# Creating Dataframes\n",
    "X_train = pd.DataFrame(X_train_sc, columns=cols)\n",
    "X_test = pd.DataFrame(X_test_sc, columns=cols)"
   ]
  },
  {
   "cell_type": "markdown",
   "id": "64ba69e6",
   "metadata": {},
   "source": [
    "## 3. HELPER FUNCTIONS"
   ]
  },
  {
   "cell_type": "code",
   "execution_count": 4,
   "id": "0b35bdb1",
   "metadata": {},
   "outputs": [],
   "source": [
    "# Defining forward selection function\n",
    "\n",
    "def forward_selection(data, target, significance_level=0.01):\n",
    "    initial_features = data.columns.tolist()\n",
    "    best_features = []\n",
    "    while (len(initial_features)>0):\n",
    "        remaining_features = list(set(initial_features)-set(best_features))\n",
    "        new_pval = pd.Series(index=remaining_features)\n",
    "        for new_column in remaining_features:\n",
    "            model = sm.OLS(target, sm.add_constant(data[best_features+[new_column]])).fit()\n",
    "            new_pval[new_column] = model.pvalues[new_column]\n",
    "        min_p_value = new_pval.min()\n",
    "        if(min_p_value<significance_level):\n",
    "            best_features.append(new_pval.idxmin())\n",
    "        else:\n",
    "            break\n",
    "    return best_features"
   ]
  },
  {
   "cell_type": "code",
   "execution_count": 5,
   "id": "db300a1a",
   "metadata": {},
   "outputs": [],
   "source": [
    "# Defining backward elimination function\n",
    "def backward_elimination(data, target,significance_level = 0.01):\n",
    "    features = data.columns.tolist()\n",
    "    while(len(features)>0):\n",
    "        features_with_constant = sm.add_constant(data[features])\n",
    "        p_values = sm.OLS(target, features_with_constant).fit().pvalues[1:]\n",
    "        max_p_value = p_values.max()\n",
    "        if(max_p_value >= significance_level):\n",
    "            excluded_feature = p_values.idxmax()\n",
    "            features.remove(excluded_feature)\n",
    "        else:\n",
    "            break \n",
    "    return features"
   ]
  },
  {
   "cell_type": "code",
   "execution_count": 6,
   "id": "df5ef4ea",
   "metadata": {},
   "outputs": [],
   "source": [
    "# Defining the stepwise selection function\n",
    "\n",
    "def stepwise_selection(data, target,SL_in=0.01,SL_out = 0.01):\n",
    "    initial_features = data.columns.tolist()\n",
    "    best_features = []\n",
    "    while (len(initial_features)>0):\n",
    "        remaining_features = list(set(initial_features)-set(best_features))\n",
    "        new_pval = pd.Series(index=remaining_features)\n",
    "        for new_column in remaining_features:\n",
    "            model = sm.OLS(target, sm.add_constant(data[best_features+[new_column]])).fit()\n",
    "            new_pval[new_column] = model.pvalues[new_column]\n",
    "        min_p_value = new_pval.min()\n",
    "        if(min_p_value<SL_in):\n",
    "            best_features.append(new_pval.idxmin())\n",
    "            while(len(best_features)>0):\n",
    "                best_features_with_constant = sm.add_constant(data[best_features])\n",
    "                p_values = sm.OLS(target, best_features_with_constant).fit().pvalues[1:]\n",
    "                max_p_value = p_values.max()\n",
    "                if(max_p_value >= SL_out):\n",
    "                    excluded_feature = p_values.idxmax()\n",
    "                    best_features.remove(excluded_feature)\n",
    "                else:\n",
    "                    break \n",
    "        else:\n",
    "            break\n",
    "    return best_features"
   ]
  },
  {
   "cell_type": "code",
   "execution_count": 7,
   "id": "edc0ff82",
   "metadata": {},
   "outputs": [],
   "source": [
    "# Defining kfold validation\n",
    "cv = KFold(n_splits=5) "
   ]
  },
  {
   "cell_type": "markdown",
   "id": "7deb62ed",
   "metadata": {},
   "source": [
    "## 4. FORWARD SELECTION"
   ]
  },
  {
   "cell_type": "code",
   "execution_count": 8,
   "id": "66cd5a7d",
   "metadata": {},
   "outputs": [],
   "source": [
    "# Preprocessing the X_train\n",
    "X_train_for = X_train[forward_selection(X_train,Y_train)]\n",
    "X_train_for_with_constant = sm.add_constant(X_train_for) "
   ]
  },
  {
   "cell_type": "code",
   "execution_count": 9,
   "id": "4cfae232",
   "metadata": {},
   "outputs": [
    {
     "name": "stdout",
     "output_type": "stream",
     "text": [
      "                            OLS Regression Results                            \n",
      "==============================================================================\n",
      "Dep. Variable:       TARGET_deathRate   R-squared:                       0.500\n",
      "Model:                            OLS   Adj. R-squared:                  0.497\n",
      "Method:                 Least Squares   F-statistic:                     145.3\n",
      "Date:                Thu, 22 Feb 2024   Prob (F-statistic):          3.66e-314\n",
      "Time:                        18:12:52   Log-Likelihood:                -9574.2\n",
      "No. Observations:                2194   AIC:                         1.918e+04\n",
      "Df Residuals:                    2178   BIC:                         1.927e+04\n",
      "Df Model:                          15                                         \n",
      "Covariance Type:            nonrobust                                         \n",
      "========================================================================================\n",
      "                           coef    std err          t      P>|t|      [0.025      0.975]\n",
      "----------------------------------------------------------------------------------------\n",
      "const                  180.0060      0.407    441.958      0.000     179.207     180.805\n",
      "PctBachDeg25_Over       -5.5691      0.629     -8.857      0.000      -6.802      -4.336\n",
      "incidenceRate            8.9638      0.450     19.903      0.000       8.081       9.847\n",
      "povertyPercent          -0.3952      0.955     -0.414      0.679      -2.267       1.477\n",
      "Geography_WEST          -4.7585      0.458    -10.385      0.000      -5.657      -3.860\n",
      "PctHS18_24               3.0989      0.478      6.479      0.000       2.161       4.037\n",
      "PctUnemployed16_Over     1.0928      0.608      1.798      0.072      -0.099       2.285\n",
      "PctPrivateCoverage      -7.5952      1.054     -7.206      0.000      -9.662      -5.528\n",
      "PctNoHS18_24            -1.4811      0.491     -3.014      0.003      -2.445      -0.518\n",
      "PctOtherRace            -2.1661      0.463     -4.675      0.000      -3.075      -1.257\n",
      "PctEmpPrivCoverage       4.2623      0.884      4.819      0.000       2.528       5.997\n",
      "PctMarriedHouseholds    -8.8076      1.068     -8.249      0.000     -10.902      -6.714\n",
      "PercentMarried           9.6037      1.272      7.552      0.000       7.110      12.098\n",
      "PctEmployed16_Over      -6.0686      0.930     -6.526      0.000      -7.892      -4.245\n",
      "MedianAge               -4.6250      0.702     -6.586      0.000      -6.002      -3.248\n",
      "BirthRate               -1.5105      0.437     -3.458      0.001      -2.367      -0.654\n",
      "==============================================================================\n",
      "Omnibus:                      110.791   Durbin-Watson:                   2.008\n",
      "Prob(Omnibus):                  0.000   Jarque-Bera (JB):              402.498\n",
      "Skew:                           0.025   Prob(JB):                     3.97e-88\n",
      "Kurtosis:                       5.098   Cond. No.                         9.66\n",
      "==============================================================================\n",
      "\n",
      "Notes:\n",
      "[1] Standard Errors assume that the covariance matrix of the errors is correctly specified.\n"
     ]
    }
   ],
   "source": [
    "FOR_SEL_model = sm.OLS(Y_train, X_train_for_with_constant).fit()\n",
    "print(FOR_SEL_model.summary())"
   ]
  },
  {
   "cell_type": "code",
   "execution_count": 10,
   "id": "a0c29a95",
   "metadata": {},
   "outputs": [],
   "source": [
    "# Getting predictions and training MSE \n",
    "\n",
    "FORSELpredictions = FOR_SEL_model.predict(X_train_for_with_constant)\n",
    "\n",
    "FOR_SEL_Training_MSE = np.round(mean_squared_error(Y_train, FORSELpredictions),2)"
   ]
  },
  {
   "cell_type": "code",
   "execution_count": 11,
   "id": "c2ed33d0",
   "metadata": {},
   "outputs": [],
   "source": [
    "# Getting kfold MSE \n",
    "\n",
    "forsel_cv_MSE = round(np.mean(cross_val_score(LinearRegression(), X_train_for, Y_train, cv=cv, \n",
    "                                          scoring='neg_mean_squared_error', error_score='raise') * (-1)),1)"
   ]
  },
  {
   "cell_type": "code",
   "execution_count": 12,
   "id": "55f141ae",
   "metadata": {},
   "outputs": [],
   "source": [
    "# Preprocessing the X_test\n",
    "X_test_for = X_test[X_train_for.columns]\n",
    "X_test_for_with_constant = sm.add_constant(X_test_for)\n",
    "\n",
    "# Getting predictions and test MSE \n",
    "\n",
    "FOR_SEL_predictions = FOR_SEL_model.predict(X_test_for_with_constant)\n",
    "FOR_SEL_Test_MSE = round(mean_squared_error(Y_test, FOR_SEL_predictions), 2)"
   ]
  },
  {
   "cell_type": "code",
   "execution_count": 13,
   "id": "7d748ac0",
   "metadata": {},
   "outputs": [],
   "source": [
    "# Dictionary that holds the performance metrics \n",
    "\n",
    "dict1 = {'Forward Selection': (np.round(FOR_SEL_model.rsquared,3),FOR_SEL_Training_MSE,\n",
    "                                            forsel_cv_MSE, FOR_SEL_Test_MSE )}"
   ]
  },
  {
   "cell_type": "code",
   "execution_count": 14,
   "id": "f0e86245",
   "metadata": {},
   "outputs": [],
   "source": [
    "# Creating a dataframe to easily present the results \n",
    "\n",
    "Evaluation_df = pd.DataFrame(dict1, index=['R^2','Training_MSE','Training_MSE (KFold)', 'Test_MSE'])"
   ]
  },
  {
   "cell_type": "code",
   "execution_count": 15,
   "id": "b2a3e98c",
   "metadata": {},
   "outputs": [
    {
     "data": {
      "text/html": [
       "<div>\n",
       "<style scoped>\n",
       "    .dataframe tbody tr th:only-of-type {\n",
       "        vertical-align: middle;\n",
       "    }\n",
       "\n",
       "    .dataframe tbody tr th {\n",
       "        vertical-align: top;\n",
       "    }\n",
       "\n",
       "    .dataframe thead th {\n",
       "        text-align: right;\n",
       "    }\n",
       "</style>\n",
       "<table border=\"1\" class=\"dataframe\">\n",
       "  <thead>\n",
       "    <tr style=\"text-align: right;\">\n",
       "      <th></th>\n",
       "      <th>Forward Selection</th>\n",
       "    </tr>\n",
       "  </thead>\n",
       "  <tbody>\n",
       "    <tr>\n",
       "      <th>R^2</th>\n",
       "      <td>0.50</td>\n",
       "    </tr>\n",
       "    <tr>\n",
       "      <th>Training_MSE</th>\n",
       "      <td>361.30</td>\n",
       "    </tr>\n",
       "    <tr>\n",
       "      <th>Training_MSE (KFold)</th>\n",
       "      <td>371.90</td>\n",
       "    </tr>\n",
       "    <tr>\n",
       "      <th>Test_MSE</th>\n",
       "      <td>323.14</td>\n",
       "    </tr>\n",
       "  </tbody>\n",
       "</table>\n",
       "</div>"
      ],
      "text/plain": [
       "                      Forward Selection\n",
       "R^2                                0.50\n",
       "Training_MSE                     361.30\n",
       "Training_MSE (KFold)             371.90\n",
       "Test_MSE                         323.14"
      ]
     },
     "execution_count": 15,
     "metadata": {},
     "output_type": "execute_result"
    }
   ],
   "source": [
    "# Displaying the metrics\n",
    "\n",
    "Evaluation_df"
   ]
  },
  {
   "cell_type": "markdown",
   "id": "8ff584d7",
   "metadata": {},
   "source": [
    "## 5. BACKWARDS ELIMINATION"
   ]
  },
  {
   "cell_type": "code",
   "execution_count": 16,
   "id": "eb25189e",
   "metadata": {},
   "outputs": [],
   "source": [
    "# Preprocessing the X_train\n",
    "X_train_back = X_train[backward_elimination(X_train,Y_train)]\n",
    "X_train_back_with_constant = sm.add_constant(X_train_back) "
   ]
  },
  {
   "cell_type": "code",
   "execution_count": 17,
   "id": "eb1fb0ba",
   "metadata": {},
   "outputs": [
    {
     "name": "stdout",
     "output_type": "stream",
     "text": [
      "                            OLS Regression Results                            \n",
      "==============================================================================\n",
      "Dep. Variable:       TARGET_deathRate   R-squared:                       0.507\n",
      "Model:                            OLS   Adj. R-squared:                  0.503\n",
      "Method:                 Least Squares   F-statistic:                     124.5\n",
      "Date:                Thu, 22 Feb 2024   Prob (F-statistic):          7.10e-318\n",
      "Time:                        18:12:52   Log-Likelihood:                -9557.9\n",
      "No. Observations:                2194   AIC:                         1.915e+04\n",
      "Df Residuals:                    2175   BIC:                         1.926e+04\n",
      "Df Model:                          18                                         \n",
      "Covariance Type:            nonrobust                                         \n",
      "========================================================================================\n",
      "                           coef    std err          t      P>|t|      [0.025      0.975]\n",
      "----------------------------------------------------------------------------------------\n",
      "const                  180.0060      0.405    444.932      0.000     179.213     180.799\n",
      "avgAnnCount             -1.6722      0.542     -3.083      0.002      -2.736      -0.609\n",
      "avgDeathsPerYear         7.5850      1.610      4.713      0.000       4.429      10.741\n",
      "incidenceRate            8.9883      0.450     19.991      0.000       8.107       9.870\n",
      "popEst2015              -6.7355      1.671     -4.031      0.000     -10.012      -3.459\n",
      "MedianAge               -5.0275      0.690     -7.284      0.000      -6.381      -3.674\n",
      "PercentMarried           9.9283      1.301      7.629      0.000       7.376      12.480\n",
      "PctNoHS18_24            -1.5840      0.496     -3.194      0.001      -2.557      -0.611\n",
      "PctHS18_24               2.9805      0.474      6.292      0.000       2.052       3.909\n",
      "PctBachDeg25_Over       -5.4643      0.682     -8.015      0.000      -6.801      -4.127\n",
      "PctEmployed16_Over      -6.4022      0.814     -7.866      0.000      -7.998      -4.806\n",
      "PctPrivateCoverage      -7.0641      0.972     -7.271      0.000      -8.969      -5.159\n",
      "PctEmpPrivCoverage       4.4230      0.907      4.878      0.000       2.645       6.201\n",
      "PctWhite                -2.9093      0.986     -2.950      0.003      -4.843      -0.975\n",
      "PctBlack                -2.4509      0.901     -2.720      0.007      -4.218      -0.684\n",
      "PctOtherRace            -2.3782      0.482     -4.937      0.000      -3.323      -1.433\n",
      "PctMarriedHouseholds    -8.8045      1.037     -8.488      0.000     -10.839      -6.770\n",
      "BirthRate               -1.4772      0.437     -3.384      0.001      -2.333      -0.621\n",
      "Geography_WEST          -4.7687      0.468    -10.192      0.000      -5.686      -3.851\n",
      "==============================================================================\n",
      "Omnibus:                      121.334   Durbin-Watson:                   1.996\n",
      "Prob(Omnibus):                  0.000   Jarque-Bera (JB):              466.374\n",
      "Skew:                           0.070   Prob(JB):                    5.35e-102\n",
      "Kurtosis:                       5.254   Cond. No.                         11.9\n",
      "==============================================================================\n",
      "\n",
      "Notes:\n",
      "[1] Standard Errors assume that the covariance matrix of the errors is correctly specified.\n"
     ]
    }
   ],
   "source": [
    "BACK_EL_model = sm.OLS(Y_train, X_train_back_with_constant).fit()\n",
    "print(BACK_EL_model.summary())"
   ]
  },
  {
   "cell_type": "code",
   "execution_count": 18,
   "id": "4386394f",
   "metadata": {},
   "outputs": [],
   "source": [
    "# Getting predictions and training MSE \n",
    "\n",
    "BACKELpredictions = BACK_EL_model.predict(X_train_back_with_constant)\n",
    "\n",
    "BACK_EL_Training_MSE = np.round(mean_squared_error(Y_train, BACKELpredictions),2)"
   ]
  },
  {
   "cell_type": "code",
   "execution_count": 19,
   "id": "257d8e92",
   "metadata": {},
   "outputs": [],
   "source": [
    "# Getting kfold MSE \n",
    "\n",
    "backel_cv_MSE = round(np.mean(cross_val_score(LinearRegression(), X_train_back, Y_train, cv=cv, \n",
    "                                          scoring='neg_mean_squared_error', error_score='raise') * (-1)),1)"
   ]
  },
  {
   "cell_type": "code",
   "execution_count": 20,
   "id": "ffe423ef",
   "metadata": {},
   "outputs": [],
   "source": [
    "# Preprocessing the X_test\n",
    "X_test_back = X_test[X_train_back.columns]\n",
    "X_test_back_with_constant = sm.add_constant(X_test_back)\n",
    "\n",
    "# Getting predictions and test MSE \n",
    "\n",
    "BACK_EL_predictions = BACK_EL_model.predict(X_test_back_with_constant)\n",
    "BACK_EL_Test_MSE = round(mean_squared_error(Y_test, BACK_EL_predictions), 2)"
   ]
  },
  {
   "cell_type": "code",
   "execution_count": 21,
   "id": "50f41812",
   "metadata": {},
   "outputs": [],
   "source": [
    "# Dictionary that holds the performance metrics \n",
    "\n",
    "dict2 = {'Backwards Elimination': (np.round(BACK_EL_model.rsquared,3),\n",
    "                                    BACK_EL_Training_MSE,\n",
    "                                            backel_cv_MSE, BACK_EL_Test_MSE )}"
   ]
  },
  {
   "cell_type": "code",
   "execution_count": 22,
   "id": "7539ba3f",
   "metadata": {},
   "outputs": [],
   "source": [
    "# Creating a dataframe to easily present the results \n",
    "\n",
    "Evaluation_df1 = pd.DataFrame(dict2, index=['R^2','Training_MSE','Training_MSE (KFold)', 'Test_MSE'])"
   ]
  },
  {
   "cell_type": "code",
   "execution_count": 23,
   "id": "9c047e83",
   "metadata": {},
   "outputs": [
    {
     "data": {
      "text/html": [
       "<div>\n",
       "<style scoped>\n",
       "    .dataframe tbody tr th:only-of-type {\n",
       "        vertical-align: middle;\n",
       "    }\n",
       "\n",
       "    .dataframe tbody tr th {\n",
       "        vertical-align: top;\n",
       "    }\n",
       "\n",
       "    .dataframe thead th {\n",
       "        text-align: right;\n",
       "    }\n",
       "</style>\n",
       "<table border=\"1\" class=\"dataframe\">\n",
       "  <thead>\n",
       "    <tr style=\"text-align: right;\">\n",
       "      <th></th>\n",
       "      <th>Backwards Elimination</th>\n",
       "    </tr>\n",
       "  </thead>\n",
       "  <tbody>\n",
       "    <tr>\n",
       "      <th>R^2</th>\n",
       "      <td>0.507</td>\n",
       "    </tr>\n",
       "    <tr>\n",
       "      <th>Training_MSE</th>\n",
       "      <td>356.000</td>\n",
       "    </tr>\n",
       "    <tr>\n",
       "      <th>Training_MSE (KFold)</th>\n",
       "      <td>366.500</td>\n",
       "    </tr>\n",
       "    <tr>\n",
       "      <th>Test_MSE</th>\n",
       "      <td>311.260</td>\n",
       "    </tr>\n",
       "  </tbody>\n",
       "</table>\n",
       "</div>"
      ],
      "text/plain": [
       "                      Backwards Elimination\n",
       "R^2                                   0.507\n",
       "Training_MSE                        356.000\n",
       "Training_MSE (KFold)                366.500\n",
       "Test_MSE                            311.260"
      ]
     },
     "execution_count": 23,
     "metadata": {},
     "output_type": "execute_result"
    }
   ],
   "source": [
    "# Displaying the metrics\n",
    "\n",
    "Evaluation_df1"
   ]
  },
  {
   "cell_type": "markdown",
   "id": "ced3a2d4",
   "metadata": {},
   "source": [
    "## 6. STEPWISE SELECTION"
   ]
  },
  {
   "cell_type": "code",
   "execution_count": 24,
   "id": "ff5a2e04",
   "metadata": {},
   "outputs": [],
   "source": [
    "# Preprocessing the X_train\n",
    "X_train_step = X_train[stepwise_selection(X_train,Y_train)]\n",
    "X_train_step_with_constant = sm.add_constant(X_train_step) "
   ]
  },
  {
   "cell_type": "code",
   "execution_count": 25,
   "id": "76e85230",
   "metadata": {},
   "outputs": [
    {
     "name": "stdout",
     "output_type": "stream",
     "text": [
      "                            OLS Regression Results                            \n",
      "==============================================================================\n",
      "Dep. Variable:       TARGET_deathRate   R-squared:                       0.499\n",
      "Model:                            OLS   Adj. R-squared:                  0.496\n",
      "Method:                 Least Squares   F-statistic:                     167.3\n",
      "Date:                Thu, 22 Feb 2024   Prob (F-statistic):          1.20e-315\n",
      "Time:                        18:12:54   Log-Likelihood:                -9575.9\n",
      "No. Observations:                2194   AIC:                         1.918e+04\n",
      "Df Residuals:                    2180   BIC:                         1.926e+04\n",
      "Df Model:                          13                                         \n",
      "Covariance Type:            nonrobust                                         \n",
      "========================================================================================\n",
      "                           coef    std err          t      P>|t|      [0.025      0.975]\n",
      "----------------------------------------------------------------------------------------\n",
      "const                  180.0060      0.407    441.814      0.000     179.207     180.805\n",
      "PctBachDeg25_Over       -5.4960      0.626     -8.784      0.000      -6.723      -4.269\n",
      "incidenceRate            9.0750      0.446     20.334      0.000       8.200       9.950\n",
      "Geography_WEST          -4.6593      0.453    -10.286      0.000      -5.548      -3.771\n",
      "PctHS18_24               3.1314      0.473      6.620      0.000       2.204       4.059\n",
      "PctPrivateCoverage      -7.8817      0.951     -8.288      0.000      -9.747      -6.017\n",
      "PctNoHS18_24            -1.5204      0.489     -3.108      0.002      -2.480      -0.561\n",
      "PctOtherRace            -2.1900      0.458     -4.780      0.000      -3.089      -1.291\n",
      "PctEmpPrivCoverage       4.4540      0.878      5.075      0.000       2.733       6.175\n",
      "PctMarriedHouseholds    -8.8032      1.040     -8.468      0.000     -10.842      -6.765\n",
      "PctEmployed16_Over      -6.4286      0.812     -7.916      0.000      -8.021      -4.836\n",
      "PercentMarried           9.5096      1.271      7.481      0.000       7.017      12.002\n",
      "MedianAge               -4.6152      0.660     -6.998      0.000      -5.909      -3.322\n",
      "BirthRate               -1.5125      0.437     -3.461      0.001      -2.369      -0.656\n",
      "==============================================================================\n",
      "Omnibus:                      110.142   Durbin-Watson:                   2.008\n",
      "Prob(Omnibus):                  0.000   Jarque-Bera (JB):              399.420\n",
      "Skew:                           0.006   Prob(JB):                     1.85e-87\n",
      "Kurtosis:                       5.090   Cond. No.                         8.10\n",
      "==============================================================================\n",
      "\n",
      "Notes:\n",
      "[1] Standard Errors assume that the covariance matrix of the errors is correctly specified.\n"
     ]
    }
   ],
   "source": [
    "STEP_SEL_model = sm.OLS(Y_train, X_train_step_with_constant).fit()\n",
    "print(STEP_SEL_model.summary())"
   ]
  },
  {
   "cell_type": "code",
   "execution_count": 26,
   "id": "54984a4b",
   "metadata": {},
   "outputs": [],
   "source": [
    "# Getting predictions and training MSE \n",
    "\n",
    "STEPSELpredictions = STEP_SEL_model.predict(X_train_step_with_constant)\n",
    "\n",
    "STEP_SEL_Training_MSE = np.round(mean_squared_error(Y_train, STEPSELpredictions),2)"
   ]
  },
  {
   "cell_type": "code",
   "execution_count": 27,
   "id": "e8c830cf",
   "metadata": {},
   "outputs": [],
   "source": [
    "# Getting kfold MSE \n",
    "\n",
    "stepsel_cv_MSE = round(np.mean(cross_val_score(LinearRegression(), X_train_step, Y_train, cv=cv, \n",
    "                                          scoring='neg_mean_squared_error', error_score='raise') * (-1)),1)"
   ]
  },
  {
   "cell_type": "code",
   "execution_count": 28,
   "id": "09c72d09",
   "metadata": {},
   "outputs": [],
   "source": [
    "# Preprocessing the X_test\n",
    "X_test_step = X_test[X_train_step.columns]\n",
    "X_test_step_with_constant = sm.add_constant(X_test_step)\n",
    "\n",
    "# Getting predictions and test MSE \n",
    "\n",
    "STEP_SEL_predictions = STEP_SEL_model.predict(X_test_step_with_constant)\n",
    "STEP_SEL_Test_MSE = round(mean_squared_error(Y_test, STEP_SEL_predictions), 2)"
   ]
  },
  {
   "cell_type": "code",
   "execution_count": 29,
   "id": "04be8ff1",
   "metadata": {},
   "outputs": [],
   "source": [
    "# Dictionary that holds the performance metrics \n",
    "\n",
    "dict3 = {'Stepwise Selection': (np.round(STEP_SEL_model.rsquared,3),\n",
    "                                   STEP_SEL_Training_MSE,\n",
    "                                            stepsel_cv_MSE, STEP_SEL_Test_MSE )}"
   ]
  },
  {
   "cell_type": "code",
   "execution_count": 30,
   "id": "1188118f",
   "metadata": {},
   "outputs": [],
   "source": [
    "# Creating a dataframe to easily present the results \n",
    "\n",
    "Evaluation_df2 = pd.DataFrame(dict3, index=['R^2','Training_MSE','Training_MSE (KFold)', 'Test_MSE'])"
   ]
  },
  {
   "cell_type": "code",
   "execution_count": 31,
   "id": "430e7a2c",
   "metadata": {},
   "outputs": [
    {
     "data": {
      "text/html": [
       "<div>\n",
       "<style scoped>\n",
       "    .dataframe tbody tr th:only-of-type {\n",
       "        vertical-align: middle;\n",
       "    }\n",
       "\n",
       "    .dataframe tbody tr th {\n",
       "        vertical-align: top;\n",
       "    }\n",
       "\n",
       "    .dataframe thead th {\n",
       "        text-align: right;\n",
       "    }\n",
       "</style>\n",
       "<table border=\"1\" class=\"dataframe\">\n",
       "  <thead>\n",
       "    <tr style=\"text-align: right;\">\n",
       "      <th></th>\n",
       "      <th>Stepwise Selection</th>\n",
       "    </tr>\n",
       "  </thead>\n",
       "  <tbody>\n",
       "    <tr>\n",
       "      <th>R^2</th>\n",
       "      <td>0.499</td>\n",
       "    </tr>\n",
       "    <tr>\n",
       "      <th>Training_MSE</th>\n",
       "      <td>361.870</td>\n",
       "    </tr>\n",
       "    <tr>\n",
       "      <th>Training_MSE (KFold)</th>\n",
       "      <td>371.200</td>\n",
       "    </tr>\n",
       "    <tr>\n",
       "      <th>Test_MSE</th>\n",
       "      <td>327.940</td>\n",
       "    </tr>\n",
       "  </tbody>\n",
       "</table>\n",
       "</div>"
      ],
      "text/plain": [
       "                      Stepwise Selection\n",
       "R^2                                0.499\n",
       "Training_MSE                     361.870\n",
       "Training_MSE (KFold)             371.200\n",
       "Test_MSE                         327.940"
      ]
     },
     "execution_count": 31,
     "metadata": {},
     "output_type": "execute_result"
    }
   ],
   "source": [
    "# Displaying the metrics\n",
    "\n",
    "Evaluation_df2"
   ]
  },
  {
   "cell_type": "markdown",
   "id": "1864b7d6",
   "metadata": {},
   "source": [
    "## 7. RESULTS"
   ]
  },
  {
   "cell_type": "markdown",
   "id": "3e1c9c9d",
   "metadata": {},
   "source": [
    "__Aggragated Results__"
   ]
  },
  {
   "cell_type": "code",
   "execution_count": 32,
   "id": "97024c3d",
   "metadata": {},
   "outputs": [
    {
     "data": {
      "text/html": [
       "<div>\n",
       "<style scoped>\n",
       "    .dataframe tbody tr th:only-of-type {\n",
       "        vertical-align: middle;\n",
       "    }\n",
       "\n",
       "    .dataframe tbody tr th {\n",
       "        vertical-align: top;\n",
       "    }\n",
       "\n",
       "    .dataframe thead th {\n",
       "        text-align: right;\n",
       "    }\n",
       "</style>\n",
       "<table border=\"1\" class=\"dataframe\">\n",
       "  <thead>\n",
       "    <tr style=\"text-align: right;\">\n",
       "      <th></th>\n",
       "      <th>Forward Selection</th>\n",
       "      <th>Backwards Elimination</th>\n",
       "      <th>Stepwise Selection</th>\n",
       "    </tr>\n",
       "  </thead>\n",
       "  <tbody>\n",
       "    <tr>\n",
       "      <th>R^2</th>\n",
       "      <td>0.50</td>\n",
       "      <td>0.507</td>\n",
       "      <td>0.499</td>\n",
       "    </tr>\n",
       "    <tr>\n",
       "      <th>Training_MSE</th>\n",
       "      <td>361.30</td>\n",
       "      <td>356.000</td>\n",
       "      <td>361.870</td>\n",
       "    </tr>\n",
       "    <tr>\n",
       "      <th>Training_MSE (KFold)</th>\n",
       "      <td>371.90</td>\n",
       "      <td>366.500</td>\n",
       "      <td>371.200</td>\n",
       "    </tr>\n",
       "    <tr>\n",
       "      <th>Test_MSE</th>\n",
       "      <td>323.14</td>\n",
       "      <td>311.260</td>\n",
       "      <td>327.940</td>\n",
       "    </tr>\n",
       "  </tbody>\n",
       "</table>\n",
       "</div>"
      ],
      "text/plain": [
       "                      Forward Selection  Backwards Elimination  \\\n",
       "R^2                                0.50                  0.507   \n",
       "Training_MSE                     361.30                356.000   \n",
       "Training_MSE (KFold)             371.90                366.500   \n",
       "Test_MSE                         323.14                311.260   \n",
       "\n",
       "                      Stepwise Selection  \n",
       "R^2                                0.499  \n",
       "Training_MSE                     361.870  \n",
       "Training_MSE (KFold)             371.200  \n",
       "Test_MSE                         327.940  "
      ]
     },
     "execution_count": 32,
     "metadata": {},
     "output_type": "execute_result"
    }
   ],
   "source": [
    "Linear_Regression_Models_Part2_Results = pd.concat([Evaluation_df, Evaluation_df1,Evaluation_df2], axis = 1)\n",
    "Linear_Regression_Models_Part2_Results"
   ]
  },
  {
   "cell_type": "markdown",
   "id": "806cccb2",
   "metadata": {},
   "source": [
    "__Residuals's Plots__"
   ]
  },
  {
   "cell_type": "code",
   "execution_count": 33,
   "id": "3a1b4cee",
   "metadata": {},
   "outputs": [
    {
     "data": {
      "image/png": "[encoded data removed]",
      "text/plain": [
       "<Figure size 500x400 with 1 Axes>"
      ]
     },
     "metadata": {},
     "output_type": "display_data"
    }
   ],
   "source": [
    "residuals_forsel = FOR_SEL_model.resid\n",
    "\n",
    "sns.set_style(\"white\")\n",
    "    \n",
    "plt.figure(figsize=(5,4))\n",
    "    \n",
    "plt.hist(residuals_forsel, bins = 20, color = \"firebrick\")\n",
    "    \n",
    "plt.title(label = \"Distribution of Residuals (Forward Selection)\" , fontsize = 14, weight = 'bold')\n",
    "    \n",
    "sns.despine()\n",
    "    \n",
    "plt.show()"
   ]
  },
  {
   "cell_type": "code",
   "execution_count": 34,
   "id": "ec8c2250",
   "metadata": {},
   "outputs": [
    {
     "data": {
      "image/png": "[encoded data removed]",
      "text/plain": [
       "<Figure size 500x400 with 1 Axes>"
      ]
     },
     "metadata": {},
     "output_type": "display_data"
    }
   ],
   "source": [
    "residuals_backel = BACK_EL_model.resid\n",
    "\n",
    "sns.set_style(\"white\")\n",
    "    \n",
    "plt.figure(figsize=(5,4))\n",
    "    \n",
    "plt.hist(residuals_backel, bins = 20, color = \"orangered\")\n",
    "    \n",
    "plt.title(label = \"Distribution of Residuals (Backwards Elimination)\" , fontsize = 14, weight = 'bold')\n",
    "    \n",
    "sns.despine()\n",
    "    \n",
    "plt.show()"
   ]
  },
  {
   "cell_type": "code",
   "execution_count": 35,
   "id": "74593f19",
   "metadata": {
    "scrolled": false
   },
   "outputs": [
    {
     "data": {
      "image/png": "[encoded data removed]",
      "text/plain": [
       "<Figure size 500x400 with 1 Axes>"
      ]
     },
     "metadata": {},
     "output_type": "display_data"
    }
   ],
   "source": [
    "residuals_stepsel = STEP_SEL_model.resid\n",
    "\n",
    "sns.set_style(\"white\")\n",
    "    \n",
    "plt.figure(figsize=(5,4))\n",
    "    \n",
    "plt.hist(residuals_stepsel, bins = 20, color = \"chocolate\")\n",
    "    \n",
    "plt.title(label = \"Distribution of Residuals (Stepwise Selection)\" , fontsize = 14, weight = 'bold')\n",
    "    \n",
    "sns.despine()\n",
    "    \n",
    "plt.show()"
   ]
  },
  {
   "cell_type": "markdown",
   "id": "b519e261",
   "metadata": {},
   "source": [
    "The performance of these models remains consistent across all methods. In the stepwise selection model, the residuals appear to be more evenly distributed. However, for the other models, a larger proportion of predictions are closer to the actual value of y, resulting in a higher frequency of residuals being zero."
   ]
  },
  {
   "cell_type": "markdown",
   "id": "1ba49d7d",
   "metadata": {},
   "source": [
    "__Difference in predictor selection__"
   ]
  },
  {
   "cell_type": "code",
   "execution_count": 36,
   "id": "25dc8674",
   "metadata": {},
   "outputs": [
    {
     "data": {
      "text/plain": [
       "15"
      ]
     },
     "execution_count": 36,
     "metadata": {},
     "output_type": "execute_result"
    }
   ],
   "source": [
    "len(X_train_for.columns)"
   ]
  },
  {
   "cell_type": "code",
   "execution_count": 37,
   "id": "0b085382",
   "metadata": {},
   "outputs": [
    {
     "data": {
      "text/plain": [
       "18"
      ]
     },
     "execution_count": 37,
     "metadata": {},
     "output_type": "execute_result"
    }
   ],
   "source": [
    "len(X_train_back.columns)"
   ]
  },
  {
   "cell_type": "code",
   "execution_count": 38,
   "id": "af97b76c",
   "metadata": {},
   "outputs": [
    {
     "data": {
      "text/plain": [
       "13"
      ]
     },
     "execution_count": 38,
     "metadata": {},
     "output_type": "execute_result"
    }
   ],
   "source": [
    "len(X_train_step.columns)"
   ]
  },
  {
   "cell_type": "markdown",
   "id": "7c711287",
   "metadata": {},
   "source": [
    "Furthermore, it's worth noting that the various selection methods result in the selection of different predictors."
   ]
  },
  {
   "cell_type": "markdown",
   "id": "4902e73c",
   "metadata": {},
   "source": [
    "__Saving the Results__"
   ]
  },
  {
   "cell_type": "code",
   "execution_count": 39,
   "id": "74994146",
   "metadata": {},
   "outputs": [],
   "source": [
    "Linear_Regression_Models_Part2_Results.to_csv(r'Linear_Regression_Models_Part2_Results.csv', index=True, \n",
    "                                              index_label= 'Metrics')"
   ]
  }
 ],
 "metadata": {
  "kernelspec": {
   "display_name": "Python 3 (ipykernel)",
   "language": "python",
   "name": "python3"
  },
  "language_info": {
   "codemirror_mode": {
    "name": "ipython",
    "version": 3
   },
   "file_extension": ".py",
   "mimetype": "text/x-python",
   "name": "python",
   "nbconvert_exporter": "python",
   "pygments_lexer": "ipython3",
   "version": "3.11.5"
  }
 },
 "nbformat": 4,
 "nbformat_minor": 5
}
